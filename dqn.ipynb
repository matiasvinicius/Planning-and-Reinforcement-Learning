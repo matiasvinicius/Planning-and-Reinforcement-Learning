{
 "cells": [
  {
   "cell_type": "code",
   "execution_count": 1,
   "metadata": {},
   "outputs": [],
   "source": [
    "import matplotlib.pyplot as plt\n",
    "import gym\n",
    "import csv\n",
    "import random\n",
    "import logging\n",
    "import numpy as np\n",
    "from tensorflow.keras.models import Sequential\n",
    "from tensorflow.keras.layers import Dense, Flatten, Convolution2D\n",
    "from tensorflow.keras.optimizers import Adam\n",
    "from rl.policy import LinearAnnealedPolicy, EpsGreedyQPolicy\n",
    "import wandb\n",
    "from rl.agents import DQNAgent\n",
    "from rl.memory import SequentialMemory\n",
    "from keras.callbacks import CSVLogger"
   ]
  },
  {
   "cell_type": "code",
   "execution_count": 2,
   "metadata": {},
   "outputs": [],
   "source": [
    "def build_model(height, width, channels, actions):\n",
    "    model = Sequential()\n",
    "    model.add(Convolution2D(32, (8, 8), strides=(4, 4),\n",
    "              activation='relu', input_shape=(3, height, width, channels)))\n",
    "    model.add(Convolution2D(64, (4, 4), strides=(2, 2), activation='relu'))\n",
    "    model.add(Convolution2D(64, (3, 3), activation='relu'))\n",
    "    model.add(Flatten())\n",
    "    model.add(Dense(512, activation='relu'))\n",
    "    model.add(Dense(256, activation='relu'))\n",
    "    model.add(Dense(actions, activation='linear'))\n",
    "    return model"
   ]
  },
  {
   "cell_type": "code",
   "execution_count": 3,
   "metadata": {},
   "outputs": [],
   "source": [
    "def build_agent(model, actions):\n",
    "    policy = LinearAnnealedPolicy(EpsGreedyQPolicy(\n",
    "    ), attr='eps', value_max=1, value_min=.1, value_test=.2, nb_steps=10000)\n",
    "    memory = SequentialMemory(limit=1000, window_length=3)\n",
    "    dqn = DQNAgent(model=model, memory=memory, policy=policy,\n",
    "                   enable_dueling_network=True, dueling_type='avg',\n",
    "                   nb_actions=actions, nb_steps_warmup = 10000, )\n",
    "    return dqn"
   ]
  },
  {
   "cell_type": "code",
   "execution_count": 4,
   "metadata": {},
   "outputs": [],
   "source": [
    "env = gym.make(\"Freeway-v0\")\n",
    "env = gym.wrappers.ResizeObservation(env, (88, 88))\n",
    "height, width, channels = env.observation_space.shape\n",
    "actions = env.action_space.n\n",
    "model = build_model(height, width, channels, actions)"
   ]
  },
  {
   "cell_type": "code",
   "execution_count": 5,
   "metadata": {},
   "outputs": [
    {
     "output_type": "stream",
     "name": "stdout",
     "text": [
      "Model: \"sequential\"\n_________________________________________________________________\nLayer (type)                 Output Shape              Param #   \n=================================================================\nconv2d (Conv2D)              (None, 3, 21, 21, 32)     6176      \n_________________________________________________________________\nconv2d_1 (Conv2D)            (None, 3, 9, 9, 64)       32832     \n_________________________________________________________________\nconv2d_2 (Conv2D)            (None, 3, 7, 7, 64)       36928     \n_________________________________________________________________\nflatten (Flatten)            (None, 9408)              0         \n_________________________________________________________________\ndense (Dense)                (None, 512)               4817408   \n_________________________________________________________________\ndense_1 (Dense)              (None, 256)               131328    \n_________________________________________________________________\ndense_2 (Dense)              (None, 3)                 771       \n=================================================================\nTotal params: 5,025,443\nTrainable params: 5,025,443\nNon-trainable params: 0\n_________________________________________________________________\nNone\n"
     ]
    }
   ],
   "source": [
    "print(model.summary())"
   ]
  },
  {
   "cell_type": "code",
   "execution_count": 6,
   "metadata": {},
   "outputs": [
    {
     "output_type": "stream",
     "name": "stdout",
     "text": [
      "Training for 10000 steps ...\n",
      "/home/vinicius/.local/lib/python3.8/site-packages/tensorflow/python/keras/engine/training.py:2426: UserWarning: `Model.state_updates` will be removed in a future version. This property should not be used in TensorFlow 2.0, as `updates` are applied automatically.\n",
      "  warnings.warn('`Model.state_updates` will be removed in a future version. '\n",
      " 2745/10000: episode: 1, duration: 21.807s, episode steps: 2745, steps per second: 126, episode reward:  0.000, mean reward:  0.000 [ 0.000,  0.000], mean action: 0.861 [0.000, 2.000],  loss: --, mean_q: --, mean_eps: --\n",
      " 5491/10000: episode: 2, duration: 21.537s, episode steps: 2746, steps per second: 128, episode reward:  0.000, mean reward:  0.000 [ 0.000,  0.000], mean action: 0.629 [0.000, 2.000],  loss: --, mean_q: --, mean_eps: --\n",
      " 8242/10000: episode: 3, duration: 21.439s, episode steps: 2751, steps per second: 128, episode reward:  0.000, mean reward:  0.000 [ 0.000,  0.000], mean action: 0.393 [0.000, 2.000],  loss: --, mean_q: --, mean_eps: --\n",
      "done, took 78.491 seconds\n"
     ]
    },
    {
     "output_type": "execute_result",
     "data": {
      "text/plain": [
       "<tensorflow.python.keras.callbacks.History at 0x7f4064255f10>"
      ]
     },
     "metadata": {},
     "execution_count": 6
    }
   ],
   "source": [
    "dqn = build_agent(model, actions)\n",
    "dqn.compile(Adam(learning_rate=0.001))\n",
    "dqn.fit(env, nb_steps=10000, visualize=True, verbose=2)"
   ]
  },
  {
   "cell_type": "code",
   "execution_count": null,
   "metadata": {},
   "outputs": [],
   "source": [
    "scores = dqn.test(env, nb_episodes = 10, visualize=True)\n",
    "print(np.mean(scores.history['episode_reward']))"
   ]
  },
  {
   "cell_type": "code",
   "execution_count": 8,
   "metadata": {},
   "outputs": [],
   "source": [
    "env.close()"
   ]
  },
  {
   "cell_type": "code",
   "execution_count": 20,
   "metadata": {},
   "outputs": [
    {
     "output_type": "stream",
     "name": "stdout",
     "text": [
      "[ 4.28302234e-270  5.86647438e+025  5.32304524e+006  6.34904233e+025\n  2.21253796e+040 -1.76973233e+053  8.56384747e-041  6.58231311e+180\n  1.01273734e+267  1.27171878e-076  9.89113690e+005  9.83245612e+025\n  1.48489143e+011  1.02990189e+026  2.23825620e-154  2.28393623e-053\n  9.35203400e+207  9.89110198e+005  9.83245612e+025  1.48489143e+011\n  1.02990189e+026  5.68056423e-270  4.69885250e-294  3.07988422e-300\n  1.01444746e-211  3.16199836e-086  1.81635207e+098  3.31891467e+006\n  7.91056123e+102  4.27563924e-270  1.23520445e-296  4.17478251e-149\n  3.15925543e-086  1.81635207e+098  3.31891467e+006  7.91056123e+102\n  4.27568256e-270  4.27563910e-270 -3.38186250e+007  4.56185909e-172\n  8.98216983e+164  1.73054346e+098  1.01578389e-080  6.83256069e+025\n  1.10601002e-303 -4.51971526e-308  8.29251135e+133  1.14254956e+243\n  1.73054346e+098  1.01578389e-080  6.83256069e+025  1.10601002e-303\n  1.07582693e-298  1.09005920e-298 -6.68582943e-308  1.13173997e-216\n  6.08704465e+247  2.17510881e+011  1.72438473e+088  5.86472519e+006\n  7.28625734e-222 -1.19994079e-102  6.38064794e-144  1.06395706e+224\n  4.04405742e+088  1.43688957e+107  8.71453749e+150  5.88988350e-222\n  7.15867269e-294  1.19102351e-115  8.81330431e-088  4.34976550e+199\n  4.04405742e+088  1.43688957e+107  8.71453749e+150  5.88988350e-222\n -4.45286400e-308  2.19596912e-052  3.51540214e+180  7.33942709e+097\n  1.39036186e+093  2.29177299e+059  8.07625048e-269  5.26408383e-287\n -7.22319388e+103  3.42447862e+179  2.77768858e-081  7.33942726e+097\n  1.39036186e+093  2.29177299e+059  8.07625048e-269  1.86750154e-154\n -4.05660761e-033  3.51438907e+180  7.33942709e+097  1.39036186e+093\n  2.29177299e+059  8.07625048e-269  1.22564003e-296 -4.41497726e+052\n -6.60236261e-130  5.43230922e-312  8.21781733e-310 -2.00000000e+000\n  1.29106502e-306  1.39067116e-309 -1.12388512e-044  3.18859861e-313\n  0.00000000e+000  0.00000000e+000  0.00000000e+000  1.20245380e+111]\n"
     ]
    }
   ],
   "source": [
    "import numpy as np\n",
    "myarray = np.fromfile('temp.h5f.data-00000-of-00001', dtype=float)\n",
    "print(myarray)"
   ]
  }
 ],
 "metadata": {
  "kernelspec": {
   "name": "python3",
   "display_name": "Python 3.8.5 64-bit"
  },
  "language_info": {
   "codemirror_mode": {
    "name": "ipython",
    "version": 3
   },
   "file_extension": ".py",
   "mimetype": "text/x-python",
   "name": "python",
   "nbconvert_exporter": "python",
   "pygments_lexer": "ipython3",
   "version": "3.8.5"
  },
  "interpreter": {
   "hash": "916dbcbb3f70747c44a77c7bcd40155683ae19c65e1c03b4aa3499c5328201f1"
  }
 },
 "nbformat": 4,
 "nbformat_minor": 5
}