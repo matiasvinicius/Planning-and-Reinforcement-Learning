{
 "cells": [
  {
   "cell_type": "code",
   "execution_count": 1,
   "metadata": {},
   "outputs": [
    {
     "output_type": "stream",
     "name": "stderr",
     "text": [
      "/home/vinicius/.local/lib/python3.8/site-packages/keras_gym/base/patches.py:23: UserWarning: keras-gym has known issues with eager execution mode; eager execution has been disabled as a precaution. You may try and enable eager execution with: tf.compat.v1.enable_eager_execution()\n  warnings.warn(\n"
     ]
    }
   ],
   "source": [
    "import gym\n",
    "import keras_gym as km\n",
    "from tensorflow.keras.layers import Conv2D, Lambda, Dense, Flatten\n",
    "from tensorflow.keras import backend as K"
   ]
  },
  {
   "cell_type": "code",
   "execution_count": 2,
   "metadata": {},
   "outputs": [],
   "source": [
    "env = gym.make('Freeway-v0')\n",
    "env = km.wrappers.ImagePreprocessor(env, height=84, width=84, grayscale=True)\n",
    "env = km.wrappers.FrameStacker(env, num_frames=3)\n",
    "env = km.wrappers.TrainMonitor(env)"
   ]
  },
  {
   "cell_type": "code",
   "execution_count": 3,
   "metadata": {},
   "outputs": [],
   "source": [
    "km.enable_logging()"
   ]
  },
  {
   "cell_type": "code",
   "execution_count": 4,
   "metadata": {},
   "outputs": [],
   "source": [
    "class Func(km.FunctionApproximator):\n",
    "    def body(self, S):\n",
    "        def diff_transform(S):\n",
    "            S = K.cast(S, 'float32') / 255\n",
    "            M = km.utils.diff_transform_matrix(num_frames=3)\n",
    "            return K.dot(S, M)\n",
    "\n",
    "        X = Lambda(diff_transform)(S)\n",
    "        X = Conv2D(filters=32, kernel_size=8, strides=4, activation='relu')(X)\n",
    "        #X = Conv2D(filters=64, kernel_size=4, strides=2, activation='relu')(X)\n",
    "        #X = Conv2D(filters=64, kernel_size=3, strides=2, activation='relu')(X)\n",
    "        X = Flatten()(X)\n",
    "        #X = Dense(units=512, activation='relu')(X)\n",
    "        X = Dense(units=256, activation='relu')(X)\n",
    "        return X"
   ]
  },
  {
   "cell_type": "code",
   "execution_count": 5,
   "metadata": {},
   "outputs": [],
   "source": [
    "func = Func(env, lr=0.5)\n",
    "pi = km.SoftmaxPolicy(func, update_strategy='ppo')\n",
    "v = km.V(func, gamma=0.99, bootstrap_n=10, bootstrap_with_target_model=True)\n",
    "actor_critic = km.ActorCritic(pi, v)"
   ]
  },
  {
   "cell_type": "code",
   "execution_count": 6,
   "metadata": {},
   "outputs": [],
   "source": [
    "buffer = km.caching.ExperienceReplayBuffer.from_value_function(\n",
    "    value_function=v, capacity=1000, batch_size=64)"
   ]
  },
  {
   "cell_type": "code",
   "execution_count": 9,
   "metadata": {
    "tags": []
   },
   "outputs": [
    {
     "output_type": "stream",
     "name": "stderr",
     "text": [
      "INFO:TrainMonitor:ep: 3, T: 4,754, G: 0, avg_G: 0, t: 2731, dt: 17.242ms, loss: -0.011, policy/entropy: 1.1, policy/kl_div: 0, policy/loss: -0.011, value/loss: 0\n",
      "INFO:TrainMonitor:ep: 4, T: 7,487, G: 0, avg_G: 0, t: 2732, dt: 16.445ms, loss: -0.011, policy/entropy: 1.1, policy/kl_div: 0, policy/loss: -0.011, value/loss: 0\n",
      "INFO:TrainMonitor:ep: 5, T: 10,225, G: 0, avg_G: 0, t: 2737, dt: 10.874ms, loss: -0.011, policy/entropy: 1.1, policy/kl_div: 0, policy/loss: -0.011, value/loss: 0\n",
      "INFO:generate_gif:recorded episode to: Logs/000004.gif\n"
     ]
    }
   ],
   "source": [
    "while env.T < 10000:\n",
    "    s = env.reset()\n",
    "\n",
    "    for t in range(env.spec.max_episode_steps):\n",
    "        a = pi(s, use_target_model=True)  # target_model == pi_old\n",
    "        s_next, r, done, info = env.step(a)\n",
    "\n",
    "        buffer.add(s, a, r, done, env.ep)\n",
    "\n",
    "        if len(buffer) >= buffer.capacity:\n",
    "            num_batches = int(4 * buffer.capacity / buffer.batch_size)\n",
    "            for _ in range(num_batches):\n",
    "                actor_critic.batch_update(*buffer.sample())\n",
    "            buffer.clear()\n",
    "\n",
    "            actor_critic.sync_target_model(tau=0.1)\n",
    "\n",
    "        if done:\n",
    "            break\n",
    "\n",
    "        s = s_next\n",
    "\n",
    "    if env.ep % 2 == 0:\n",
    "        km.utils.generate_gif(\n",
    "            env=env,\n",
    "            policy=pi,\n",
    "            filepath='Logs/{:06d}.gif'.format(env.ep),\n",
    "            resize_to=(320, 420))"
   ]
  },
  {
   "cell_type": "code",
   "execution_count": null,
   "metadata": {},
   "outputs": [],
   "source": []
  }
 ],
 "metadata": {
  "interpreter": {
   "hash": "916dbcbb3f70747c44a77c7bcd40155683ae19c65e1c03b4aa3499c5328201f1"
  },
  "kernelspec": {
   "name": "python3",
   "display_name": "Python 3.8.5 64-bit"
  },
  "language_info": {
   "codemirror_mode": {
    "name": "ipython",
    "version": 3
   },
   "file_extension": ".py",
   "mimetype": "text/x-python",
   "name": "python",
   "nbconvert_exporter": "python",
   "pygments_lexer": "ipython3",
   "version": "3.8.5"
  }
 },
 "nbformat": 4,
 "nbformat_minor": 4
}