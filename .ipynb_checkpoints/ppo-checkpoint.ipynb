{
 "metadata": {
  "language_info": {
   "codemirror_mode": {
    "name": "ipython",
    "version": 3
   },
   "file_extension": ".py",
   "mimetype": "text/x-python",
   "name": "python",
   "nbconvert_exporter": "python",
   "pygments_lexer": "ipython3",
   "version": "3.8.5"
  },
  "orig_nbformat": 4,
  "kernelspec": {
   "name": "python3",
   "display_name": "Python 3.8.5 64-bit"
  },
  "interpreter": {
   "hash": "916dbcbb3f70747c44a77c7bcd40155683ae19c65e1c03b4aa3499c5328201f1"
  }
 },
 "nbformat": 4,
 "nbformat_minor": 2,
 "cells": [
  {
   "cell_type": "code",
   "execution_count": 1,
   "metadata": {},
   "outputs": [
    {
     "output_type": "stream",
     "name": "stderr",
     "text": [
      "/home/vinicius/.local/lib/python3.8/site-packages/keras_gym/base/patches.py:23: UserWarning: keras-gym has known issues with eager execution mode; eager execution has been disabled as a precaution. You may try and enable eager execution with: tf.compat.v1.enable_eager_execution()\n  warnings.warn(\n"
     ]
    }
   ],
   "source": [
    "import gym\n",
    "import keras_gym as km\n",
    "from tensorflow.keras.layers import Conv2D, Lambda, Dense, Flatten\n",
    "from tensorflow.keras import backend as K"
   ]
  },
  {
   "cell_type": "code",
   "execution_count": 2,
   "metadata": {},
   "outputs": [],
   "source": [
    "env = gym.make('Freeway-v0')\n",
    "env = km.wrappers.ImagePreprocessor(env, height=84, width=84, grayscale=True)\n",
    "env = km.wrappers.FrameStacker(env, num_frames=4)\n",
    "env = km.wrappers.TrainMonitor(env)"
   ]
  },
  {
   "cell_type": "code",
   "execution_count": 3,
   "metadata": {},
   "outputs": [],
   "source": [
    "km.enable_logging()"
   ]
  },
  {
   "cell_type": "code",
   "execution_count": 4,
   "metadata": {},
   "outputs": [],
   "source": [
    "class Func(km.FunctionApproximator):\n",
    "    def body(self, S):\n",
    "        def diff_transform(S):\n",
    "            S = K.cast(S, 'float32') / 255\n",
    "            M = km.utils.diff_transform_matrix(num_frames=4)\n",
    "            return K.dot(S, M)\n",
    "\n",
    "        X = Lambda(diff_transform)(S)\n",
    "        X = Conv2D(filters=32, kernel_size=8, strides=4, activation='relu')(X)\n",
    "        X = Conv2D(filters=64, kernel_size=4, strides=2, activation='relu')(X)\n",
    "        X = Conv2D(filters=64, kernel_size=3, strides=2, activation='relu')(X)\n",
    "        X = Flatten()(X)\n",
    "        X = Dense(units=512, activation='relu')(X)\n",
    "        X = Dense(units=256, activation='relu')(X)\n",
    "        return X"
   ]
  },
  {
   "cell_type": "code",
   "execution_count": 5,
   "metadata": {},
   "outputs": [],
   "source": [
    "func = Func(env, lr=0.01)\n",
    "pi = km.SoftmaxPolicy(func, update_strategy='ppo')\n",
    "v = km.V(func, gamma=0.99, bootstrap_n=10, bootstrap_with_target_model=True)\n",
    "actor_critic = km.ActorCritic(pi, v)"
   ]
  },
  {
   "cell_type": "code",
   "execution_count": 6,
   "metadata": {},
   "outputs": [],
   "source": [
    "buffer = km.caching.ExperienceReplayBuffer.from_value_function(\n",
    "    value_function=v, capacity=10000, batch_size=64)"
   ]
  },
  {
   "cell_type": "code",
   "execution_count": 14,
   "metadata": {
    "tags": []
   },
   "outputs": [
    {
     "output_type": "stream",
     "name": "stderr",
     "text": [
      "policy/loss: -0.011, value/loss: 0\n",
      "INFO:TrainMonitor:ep: 37, T: 101,081, G: 0, avg_G: 0, t: 2740, dt: 11.756ms, loss: -0.011, policy/entropy: 1.1, policy/kl_div: 0, policy/loss: -0.011, value/loss: 0\n",
      "INFO:TrainMonitor:ep: 38, T: 103,818, G: 0, avg_G: 0, t: 2736, dt: 11.856ms, loss: -0.011, policy/entropy: 1.1, policy/kl_div: 0, policy/loss: -0.011, value/loss: 0\n",
      "INFO:TrainMonitor:ep: 39, T: 106,532, G: 0, avg_G: 0, t: 2713, dt: 10.511ms, loss: -0.011, policy/entropy: 1.1, policy/kl_div: 0, policy/loss: -0.011, value/loss: 0\n",
      "INFO:TrainMonitor:ep: 40, T: 109,243, G: 0, avg_G: 0, t: 2710, dt: 11.140ms, loss: -0.011, policy/entropy: 1.1, policy/kl_div: 0, policy/loss: -0.011, value/loss: 0\n",
      "INFO:TrainMonitor:ep: 41, T: 111,992, G: 0, avg_G: 0, t: 2748, dt: 5.606ms, loss: -0.011, policy/entropy: 1.1, policy/kl_div: 0, policy/loss: -0.011, value/loss: 0\n",
      "INFO:generate_gif:recorded episode to: Logs/000040.gif\n",
      "INFO:TrainMonitor:ep: 42, T: 114,746, G: 0, avg_G: 0, t: 2753, dt: 11.378ms, loss: -0.011, policy/entropy: 1.1, policy/kl_div: 0, policy/loss: -0.011, value/loss: 0\n",
      "INFO:TrainMonitor:ep: 43, T: 117,504, G: 0, avg_G: 0, t: 2757, dt: 11.119ms, loss: -0.011, policy/entropy: 1.1, policy/kl_div: 0, policy/loss: -0.011, value/loss: 0\n",
      "INFO:TrainMonitor:ep: 44, T: 120,244, G: 0, avg_G: 0, t: 2739, dt: 11.774ms, loss: -0.011, policy/entropy: 1.1, policy/kl_div: 0, policy/loss: -0.011, value/loss: 0\n",
      "INFO:TrainMonitor:ep: 45, T: 122,990, G: 0, avg_G: 0, t: 2745, dt: 11.176ms, loss: -0.011, policy/entropy: 1.1, policy/kl_div: 0, policy/loss: -0.011, value/loss: 0\n",
      "INFO:TrainMonitor:ep: 46, T: 125,716, G: 0, avg_G: 0, t: 2725, dt: 11.855ms, loss: -0.011, policy/entropy: 1.1, policy/kl_div: 0, policy/loss: -0.011, value/loss: 0\n",
      "INFO:TrainMonitor:ep: 47, T: 128,466, G: 0, avg_G: 0, t: 2749, dt: 11.327ms, loss: -0.011, policy/entropy: 1.1, policy/kl_div: 0, policy/loss: -0.011, value/loss: 0\n",
      "INFO:TrainMonitor:ep: 48, T: 131,180, G: 0, avg_G: 0, t: 2713, dt: 11.339ms, loss: -0.011, policy/entropy: 1.1, policy/kl_div: 0, policy/loss: -0.011, value/loss: 0\n",
      "INFO:TrainMonitor:ep: 49, T: 133,901, G: 0, avg_G: 0, t: 2720, dt: 11.216ms, loss: -0.011, policy/entropy: 1.1, policy/kl_div: 0, policy/loss: -0.011, value/loss: 0\n",
      "INFO:TrainMonitor:ep: 50, T: 136,623, G: 0, avg_G: 0, t: 2721, dt: 11.452ms, loss: -0.011, policy/entropy: 1.1, policy/kl_div: 0, policy/loss: -0.011, value/loss: 0\n",
      "INFO:TrainMonitor:ep: 51, T: 139,347, G: 0, avg_G: 0, t: 2723, dt: 5.938ms, loss: -0.011, policy/entropy: 1.1, policy/kl_div: 0, policy/loss: -0.011, value/loss: 0\n",
      "INFO:generate_gif:recorded episode to: Logs/000050.gif\n",
      "INFO:TrainMonitor:ep: 52, T: 142,091, G: 0, avg_G: 0, t: 2743, dt: 11.416ms, loss: -0.011, policy/entropy: 1.1, policy/kl_div: 0, policy/loss: -0.011, value/loss: 0\n",
      "INFO:TrainMonitor:ep: 53, T: 144,806, G: 0, avg_G: 0, t: 2714, dt: 10.949ms, loss: -0.011, policy/entropy: 1.1, policy/kl_div: 0, policy/loss: -0.011, value/loss: 0\n",
      "INFO:TrainMonitor:ep: 54, T: 147,537, G: 0, avg_G: 0, t: 2730, dt: 12.335ms, loss: -0.011, policy/entropy: 1.1, policy/kl_div: 0, policy/loss: -0.011, value/loss: 0\n",
      "INFO:TrainMonitor:ep: 55, T: 150,264, G: 0, avg_G: 0, t: 2726, dt: 11.189ms, loss: -0.011, policy/entropy: 1.1, policy/kl_div: 0, policy/loss: -0.011, value/loss: 0\n",
      "INFO:TrainMonitor:ep: 56, T: 153,024, G: 0, avg_G: 0, t: 2759, dt: 10.785ms, loss: -0.011, policy/entropy: 1.1, policy/kl_div: 0, policy/loss: -0.011, value/loss: 0\n",
      "INFO:TrainMonitor:ep: 57, T: 155,724, G: 0, avg_G: 0, t: 2699, dt: 10.987ms, loss: -0.011, policy/entropy: 1.1, policy/kl_div: 0, policy/loss: -0.011, value/loss: 0\n",
      "INFO:TrainMonitor:ep: 58, T: 158,443, G: 0, avg_G: 0, t: 2718, dt: 11.068ms, loss: -0.011, policy/entropy: 1.1, policy/kl_div: 0, policy/loss: -0.011, value/loss: 0\n",
      "INFO:TrainMonitor:ep: 59, T: 161,181, G: 0, avg_G: 0, t: 2737, dt: 11.463ms, loss: -0.011, policy/entropy: 1.1, policy/kl_div: 0, policy/loss: -0.011, value/loss: 0\n",
      "INFO:TrainMonitor:ep: 60, T: 163,900, G: 0, avg_G: 0, t: 2718, dt: 10.551ms, loss: -0.011, policy/entropy: 1.1, policy/kl_div: 0, policy/loss: -0.011, value/loss: 0\n",
      "INFO:TrainMonitor:ep: 61, T: 166,622, G: 0, avg_G: 0, t: 2721, dt: 5.573ms, loss: -0.011, policy/entropy: 1.1, policy/kl_div: 0, policy/loss: -0.011, value/loss: 0\n",
      "INFO:generate_gif:recorded episode to: Logs/000060.gif\n",
      "INFO:TrainMonitor:ep: 62, T: 169,352, G: 0, avg_G: 0, t: 2729, dt: 10.555ms, loss: -0.011, policy/entropy: 1.1, policy/kl_div: 0, policy/loss: -0.011, value/loss: 0\n",
      "INFO:TrainMonitor:ep: 63, T: 172,074, G: 0, avg_G: 0, t: 2721, dt: 10.589ms, loss: -0.011, policy/entropy: 1.1, policy/kl_div: 0, policy/loss: -0.011, value/loss: 0\n",
      "INFO:TrainMonitor:ep: 64, T: 174,799, G: 0, avg_G: 0, t: 2724, dt: 12.421ms, loss: -0.011, policy/entropy: 1.1, policy/kl_div: 0, policy/loss: -0.011, value/loss: 0\n",
      "INFO:TrainMonitor:ep: 65, T: 177,518, G: 0, avg_G: 0, t: 2718, dt: 10.798ms, loss: -0.011, policy/entropy: 1.1, policy/kl_div: 0, policy/loss: -0.011, value/loss: 0\n",
      "INFO:TrainMonitor:ep: 66, T: 180,261, G: 0, avg_G: 0, t: 2742, dt: 10.819ms, loss: -0.011, policy/entropy: 1.1, policy/kl_div: 0, policy/loss: -0.011, value/loss: 0\n",
      "INFO:TrainMonitor:ep: 67, T: 182,973, G: 0, avg_G: 0, t: 2711, dt: 10.871ms, loss: -0.011, policy/entropy: 1.1, policy/kl_div: 0, policy/loss: -0.011, value/loss: 0\n",
      "INFO:TrainMonitor:ep: 68, T: 185,689, G: 0, avg_G: 0, t: 2715, dt: 11.263ms, loss: -0.011, policy/entropy: 1.1, policy/kl_div: 0, policy/loss: -0.011, value/loss: 0\n",
      "INFO:TrainMonitor:ep: 69, T: 188,394, G: 0, avg_G: 0, t: 2704, dt: 10.659ms, loss: -0.011, policy/entropy: 1.1, policy/kl_div: 0, policy/loss: -0.011, value/loss: 0\n",
      "INFO:TrainMonitor:ep: 70, T: 191,108, G: 0, avg_G: 0, t: 2713, dt: 11.600ms, loss: -0.011, policy/entropy: 1.1, policy/kl_div: 0, policy/loss: -0.011, value/loss: 0\n",
      "INFO:TrainMonitor:ep: 71, T: 193,832, G: 0, avg_G: 0, t: 2723, dt: 5.890ms, loss: -0.011, policy/entropy: 1.1, policy/kl_div: 0, policy/loss: -0.011, value/loss: 0\n",
      "INFO:generate_gif:recorded episode to: Logs/000070.gif\n",
      "INFO:TrainMonitor:ep: 72, T: 196,579, G: 0, avg_G: 0, t: 2746, dt: 11.492ms, loss: -0.011, policy/entropy: 1.1, policy/kl_div: 0, policy/loss: -0.011, value/loss: 0\n",
      "INFO:TrainMonitor:ep: 73, T: 199,323, G: 0, avg_G: 0, t: 2743, dt: 12.424ms, loss: -0.011, policy/entropy: 1.1, policy/kl_div: 0, policy/loss: -0.011, value/loss: 0\n",
      "INFO:TrainMonitor:ep: 74, T: 202,024, G: 0, avg_G: 0, t: 2700, dt: 11.209ms, loss: -0.011, policy/entropy: 1.1, policy/kl_div: 0, policy/loss: -0.011, value/loss: 0\n",
      "INFO:TrainMonitor:ep: 75, T: 204,776, G: 0, avg_G: 0, t: 2751, dt: 10.963ms, loss: -0.011, policy/entropy: 1.1, policy/kl_div: 0, policy/loss: -0.011, value/loss: 0\n",
      "INFO:TrainMonitor:ep: 76, T: 207,514, G: 0, avg_G: 0, t: 2737, dt: 11.274ms, loss: -0.011, policy/entropy: 1.1, policy/kl_div: 0, policy/loss: -0.011, value/loss: 0\n",
      "INFO:TrainMonitor:ep: 77, T: 210,267, G: 0, avg_G: 0, t: 2752, dt: 12.266ms, loss: -0.011, policy/entropy: 1.1, policy/kl_div: 0, policy/loss: -0.011, value/loss: 0\n",
      "INFO:TrainMonitor:ep: 78, T: 213,002, G: 0, avg_G: 0, t: 2734, dt: 11.606ms, loss: -0.011, policy/entropy: 1.1, policy/kl_div: 0, policy/loss: -0.011, value/loss: 0\n",
      "INFO:TrainMonitor:ep: 79, T: 215,727, G: 0, avg_G: 0, t: 2724, dt: 11.363ms, loss: -0.011, policy/entropy: 1.1, policy/kl_div: 0, policy/loss: -0.011, value/loss: 0\n",
      "INFO:TrainMonitor:ep: 80, T: 218,446, G: 0, avg_G: 0, t: 2718, dt: 11.226ms, loss: -0.011, policy/entropy: 1.1, policy/kl_div: 0, policy/loss: -0.011, value/loss: 0\n",
      "INFO:TrainMonitor:ep: 81, T: 221,165, G: 0, avg_G: 0, t: 2718, dt: 5.454ms, loss: -0.011, policy/entropy: 1.1, policy/kl_div: 0, policy/loss: -0.011, value/loss: 0\n",
      "INFO:generate_gif:recorded episode to: Logs/000080.gif\n",
      "INFO:TrainMonitor:ep: 82, T: 223,873, G: 0, avg_G: 0, t: 2707, dt: 11.291ms, loss: -0.011, policy/entropy: 1.1, policy/kl_div: 0, policy/loss: -0.011, value/loss: 0\n",
      "INFO:TrainMonitor:ep: 83, T: 226,590, G: 0, avg_G: 0, t: 2716, dt: 11.015ms, loss: -0.011, policy/entropy: 1.1, policy/kl_div: 0, policy/loss: -0.011, value/loss: 0\n",
      "INFO:TrainMonitor:ep: 84, T: 229,355, G: 0, avg_G: 0, t: 2764, dt: 10.823ms, loss: -0.011, policy/entropy: 1.1, policy/kl_div: 0, policy/loss: -0.011, value/loss: 0\n",
      "INFO:TrainMonitor:ep: 85, T: 232,086, G: 0, avg_G: 0, t: 2730, dt: 11.648ms, loss: -0.011, policy/entropy: 1.1, policy/kl_div: 0, policy/loss: -0.011, value/loss: 0\n",
      "INFO:TrainMonitor:ep: 86, T: 234,788, G: 0, avg_G: 0, t: 2701, dt: 11.009ms, loss: -0.011, policy/entropy: 1.1, policy/kl_div: 0, policy/loss: -0.011, value/loss: 0\n",
      "INFO:TrainMonitor:ep: 87, T: 237,552, G: 0, avg_G: 0, t: 2763, dt: 10.648ms, loss: -0.011, policy/entropy: 1.1, policy/kl_div: 0, policy/loss: -0.011, value/loss: 0\n",
      "INFO:TrainMonitor:ep: 88, T: 240,283, G: 0, avg_G: 0, t: 2730, dt: 10.522ms, loss: -0.011, policy/entropy: 1.1, policy/kl_div: 0, policy/loss: -0.011, value/loss: 0\n",
      "INFO:TrainMonitor:ep: 89, T: 243,013, G: 0, avg_G: 0, t: 2729, dt: 11.292ms, loss: -0.011, policy/entropy: 1.1, policy/kl_div: 0, policy/loss: -0.011, value/loss: 0\n",
      "INFO:TrainMonitor:ep: 90, T: 245,763, G: 0, avg_G: 0, t: 2749, dt: 10.602ms, loss: -0.011, policy/entropy: 1.1, policy/kl_div: 0, policy/loss: -0.011, value/loss: 0\n",
      "INFO:TrainMonitor:ep: 91, T: 248,489, G: 0, avg_G: 0, t: 2725, dt: 5.358ms, loss: -0.011, policy/entropy: 1.1, policy/kl_div: 0, policy/loss: -0.011, value/loss: 0\n",
      "INFO:generate_gif:recorded episode to: Logs/000090.gif\n",
      "INFO:TrainMonitor:ep: 92, T: 251,223, G: 0, avg_G: 0, t: 2733, dt: 11.266ms, loss: -0.011, policy/entropy: 1.1, policy/kl_div: 0, policy/loss: -0.011, value/loss: 0\n",
      "INFO:TrainMonitor:ep: 93, T: 253,966, G: 0, avg_G: 0, t: 2742, dt: 11.860ms, loss: -0.011, policy/entropy: 1.1, policy/kl_div: 0, policy/loss: -0.011, value/loss: 0\n",
      "INFO:TrainMonitor:ep: 94, T: 256,682, G: 0, avg_G: 0, t: 2715, dt: 10.598ms, loss: -0.011, policy/entropy: 1.1, policy/kl_div: 0, policy/loss: -0.011, value/loss: 0\n",
      "INFO:TrainMonitor:ep: 95, T: 259,418, G: 0, avg_G: 0, t: 2735, dt: 11.661ms, loss: -0.011, policy/entropy: 1.1, policy/kl_div: 0, policy/loss: -0.011, value/loss: 0\n",
      "INFO:TrainMonitor:ep: 96, T: 262,150, G: 0, avg_G: 0, t: 2731, dt: 11.001ms, loss: -0.011, policy/entropy: 1.1, policy/kl_div: 0, policy/loss: -0.011, value/loss: 0\n",
      "INFO:TrainMonitor:ep: 97, T: 264,875, G: 0, avg_G: 0, t: 2724, dt: 11.539ms, loss: -0.011, policy/entropy: 1.1, policy/kl_div: 0, policy/loss: -0.011, value/loss: 0\n",
      "INFO:TrainMonitor:ep: 98, T: 267,624, G: 0, avg_G: 0, t: 2748, dt: 10.453ms, loss: -0.011, policy/entropy: 1.1, policy/kl_div: 0, policy/loss: -0.011, value/loss: 0\n",
      "INFO:TrainMonitor:ep: 99, T: 270,327, G: 0, avg_G: 0, t: 2702, dt: 10.355ms, loss: -0.011, policy/entropy: 1.1, policy/kl_div: 0, policy/loss: -0.011, value/loss: 0\n",
      "INFO:TrainMonitor:ep: 100, T: 273,079, G: 0, avg_G: 0, t: 2751, dt: 10.441ms, loss: -0.011, policy/entropy: 1.1, policy/kl_div: 0, policy/loss: -0.011, value/loss: 0\n",
      "INFO:TrainMonitor:ep: 101, T: 275,829, G: 0, avg_G: 0, t: 2749, dt: 5.327ms, loss: -0.011, policy/entropy: 1.1, policy/kl_div: 0, policy/loss: -0.011, value/loss: 0\n",
      "INFO:generate_gif:recorded episode to: Logs/000100.gif\n",
      "INFO:TrainMonitor:ep: 102, T: 278,581, G: 0, avg_G: 0, t: 2751, dt: 11.440ms, loss: -0.011, policy/entropy: 1.1, policy/kl_div: 0, policy/loss: -0.011, value/loss: 0\n",
      "INFO:TrainMonitor:ep: 103, T: 281,290, G: 0, avg_G: 0, t: 2708, dt: 10.718ms, loss: -0.011, policy/entropy: 1.1, policy/kl_div: 0, policy/loss: -0.011, value/loss: 0\n",
      "INFO:TrainMonitor:ep: 104, T: 284,009, G: 1, avg_G: 0.01, t: 2718, dt: 10.596ms, loss: 2.13, policy/entropy: 1.02, policy/kl_div: 1.52, policy/loss: -0.563, value/loss: 1.35\n",
      "INFO:TrainMonitor:ep: 105, T: 286,736, G: 0, avg_G: 0.0099, t: 2726, dt: 10.428ms, loss: 0.428, policy/entropy: 0.205, policy/kl_div: 2.58, policy/loss: -0.112, value/loss: 0.27\n",
      "INFO:TrainMonitor:ep: 106, T: 289,463, G: 0, avg_G: 0.0098, t: 2726, dt: 11.112ms, loss: 0.073, policy/entropy: 0.0349, policy/kl_div: 0.441, policy/loss: -0.0191, value/loss: 0.046\n",
      "INFO:TrainMonitor:ep: 107, T: 292,201, G: 0, avg_G: 0.0097, t: 2737, dt: 10.598ms, loss: 0.0146, policy/entropy: 0.007, policy/kl_div: 0.0882, policy/loss: -0.00382, value/loss: 0.00922\n",
      "INFO:TrainMonitor:ep: 108, T: 294,955, G: 0, avg_G: 0.00961, t: 2753, dt: 10.386ms, loss: 0.00294, policy/entropy: 0.0014, policy/kl_div: 0.0177, policy/loss: -0.000758, value/loss: 0.00185\n",
      "INFO:TrainMonitor:ep: 109, T: 297,678, G: 0, avg_G: 0.00951, t: 2722, dt: 10.724ms, loss: 0.000598, policy/entropy: 0.000281, policy/kl_div: 0.00354, policy/loss: -0.000146, value/loss: 0.000372\n",
      "INFO:TrainMonitor:ep: 110, T: 300,407, G: 0, avg_G: 0.00941, t: 2728, dt: 11.511ms, loss: 0.000107, policy/entropy: 4.79e-05, policy/kl_div: 0.000604, policy/loss: -2.07e-05, value/loss: 6.41e-05\n",
      "INFO:TrainMonitor:ep: 111, T: 303,129, G: 0, avg_G: 0.00932, t: 2721, dt: 5.681ms, loss: 0.000107, policy/entropy: 4.79e-05, policy/kl_div: 0.000604, policy/loss: -2.07e-05, value/loss: 6.41e-05\n",
      "INFO:generate_gif:recorded episode to: Logs/000110.gif\n",
      "INFO:TrainMonitor:ep: 112, T: 305,852, G: 0, avg_G: 0.00923, t: 2722, dt: 10.667ms, loss: 2.71e-05, policy/entropy: 9.59e-06, policy/kl_div: 0.000121, policy/loss: -9.58e-07, value/loss: 1.4e-05\n",
      "INFO:TrainMonitor:ep: 113, T: 308,600, G: 0, avg_G: 0.00914, t: 2747, dt: 10.398ms, loss: 9.32e-06, policy/entropy: 1.92e-06, policy/kl_div: 2.42e-05, policy/loss: 1.46e-06, value/loss: 3.93e-06\n",
      "INFO:TrainMonitor:ep: 114, T: 311,336, G: 0, avg_G: 0.00904, t: 2735, dt: 11.065ms, loss: 3.97e-06, policy/entropy: 3.27e-07, policy/kl_div: 4.13e-06, policy/loss: 1.36e-06, value/loss: 1.3e-06\n",
      "INFO:TrainMonitor:ep: 115, T: 314,056, G: 0, avg_G: 0.00895, t: 2719, dt: 10.612ms, loss: 3.74e-06, policy/entropy: 6.56e-08, policy/kl_div: 8.27e-07, policy/loss: 1.98e-06, value/loss: 8.8e-07\n",
      "INFO:TrainMonitor:ep: 116, T: 316,794, G: 0, avg_G: 0.00886, t: 2737, dt: 10.473ms, loss: 4.91e-06, policy/entropy: 1.31e-08, policy/kl_div: 1.66e-07, policy/loss: 3.71e-06, value/loss: 5.99e-07\n",
      "INFO:TrainMonitor:ep: 117, T: 319,536, G: 0, avg_G: 0.00878, t: 2741, dt: 10.711ms, loss: 4.32e-06, policy/entropy: 2.63e-09, policy/kl_div: 3.32e-08, policy/loss: 3.34e-06, value/loss: 4.9e-07\n",
      "INFO:TrainMonitor:ep: 118, T: 322,245, G: 0, avg_G: 0.00869, t: 2708, dt: 11.349ms, loss: 3.18e-06, policy/entropy: 4.48e-10, policy/kl_div: 5.66e-09, policy/loss: 2.46e-06, value/loss: 3.6e-07\n",
      "INFO:TrainMonitor:ep: 119, T: 324,981, G: 0, avg_G: 0.0086, t: 2735, dt: 10.804ms, loss: 2.24e-06, policy/entropy: 8.98e-11, policy/kl_div: 1.13e-09, policy/loss: 1.63e-06, value/loss: 3.02e-07\n",
      "INFO:TrainMonitor:ep: 120, T: 327,702, G: 0, avg_G: 0.00851, t: 2720, dt: 10.734ms, loss: 1.53e-06, policy/entropy: 1.8e-11, policy/kl_div: 2.27e-10, policy/loss: 1.03e-06, value/loss: 2.48e-07\n",
      "INFO:TrainMonitor:ep: 121, T: 330,428, G: 0, avg_G: 0.00843, t: 2725, dt: 5.396ms, loss: 1.53e-06, policy/entropy: 1.8e-11, policy/kl_div: 2.27e-10, policy/loss: 1.03e-06, value/loss: 2.48e-07\n",
      "INFO:generate_gif:recorded episode to: Logs/000120.gif\n",
      "INFO:TrainMonitor:ep: 122, T: 333,170, G: 0, avg_G: 0.00835, t: 2741, dt: 10.823ms, loss: 1.4e-06, policy/entropy: 3.6e-12, policy/kl_div: 4.54e-11, policy/loss: 8.22e-07, value/loss: 2.88e-07\n",
      "INFO:TrainMonitor:ep: 123, T: 335,900, G: 0, avg_G: 0.00826, t: 2729, dt: 11.461ms, loss: 5.62e-07, policy/entropy: 6.14e-13, policy/kl_div: 7.75e-12, policy/loss: 2.08e-07, value/loss: 1.77e-07\n",
      "INFO:TrainMonitor:ep: 124, T: 338,621, G: 0, avg_G: 0.00818, t: 2720, dt: 10.865ms, loss: 4.48e-07, policy/entropy: 1.23e-13, policy/kl_div: 1.55e-12, policy/loss: 1.18e-07, value/loss: 1.65e-07\n",
      "INFO:TrainMonitor:ep: 125, T: 341,350, G: 0, avg_G: 0.0081, t: 2728, dt: 10.720ms, loss: 1.12e-06, policy/entropy: 2.46e-14, policy/kl_div: 3.11e-13, policy/loss: 9.18e-07, value/loss: 9.97e-08\n",
      "INFO:TrainMonitor:ep: 126, T: 344,091, G: 0, avg_G: 0.00802, t: 2740, dt: 10.826ms, loss: 1.06e-06, policy/entropy: 4.94e-15, policy/kl_div: 6.22e-14, policy/loss: 8.64e-07, value/loss: 9.82e-08\n",
      "INFO:TrainMonitor:ep: 127, T: 346,815, G: 0, avg_G: 0.00794, t: 2723, dt: 11.246ms, loss: 8.16e-07, policy/entropy: 8.42e-16, policy/kl_div: 1.06e-14, policy/loss: 6.12e-07, value/loss: 1.02e-07\n",
      "INFO:TrainMonitor:ep: 128, T: 349,528, G: 0, avg_G: 0.00786, t: 2712, dt: 10.683ms, loss: 4e-07, policy/entropy: 1.69e-16, policy/kl_div: 2.13e-15, policy/loss: 2.62e-07, value/loss: 6.92e-08\n",
      "INFO:TrainMonitor:ep: 129, T: 352,264, G: 0, avg_G: 0.00778, t: 2735, dt: 10.628ms, loss: 4.1e-07, policy/entropy: 3.38e-17, policy/kl_div: 4.26e-16, policy/loss: 2.14e-07, value/loss: 9.81e-08\n",
      "INFO:TrainMonitor:ep: 130, T: 355,015, G: 0, avg_G: 0.0077, t: 2750, dt: 10.605ms, loss: 1.21e-07, policy/entropy: 6.76e-18, policy/kl_div: 8.53e-17, policy/loss: 6.33e-09, value/loss: 5.72e-08\n",
      "INFO:TrainMonitor:ep: 131, T: 357,761, G: 0, avg_G: 0.00762, t: 2745, dt: 5.633ms, loss: 1.21e-07, policy/entropy: 6.76e-18, policy/kl_div: 8.53e-17, policy/loss: 6.33e-09, value/loss: 5.72e-08\n",
      "INFO:generate_gif:recorded episode to: Logs/000130.gif\n",
      "INFO:TrainMonitor:ep: 132, T: 360,489, G: 0, avg_G: 0.00755, t: 2727, dt: 11.570ms, loss: 5.64e-07, policy/entropy: 1.15e-18, policy/kl_div: 1.45e-17, policy/loss: 5.14e-07, value/loss: 2.47e-08\n",
      "INFO:TrainMonitor:ep: 133, T: 363,229, G: 0, avg_G: 0.00747, t: 2739, dt: 11.182ms, loss: 3.15e-07, policy/entropy: 2.31e-19, policy/kl_div: 2.91e-18, policy/loss: 2.61e-07, value/loss: 2.69e-08\n",
      "INFO:TrainMonitor:ep: 134, T: 365,955, G: 0, avg_G: 0.0074, t: 2725, dt: 11.121ms, loss: 1.13e-07, policy/entropy: 4.62e-20, policy/kl_div: 5.83e-19, policy/loss: 6.37e-08, value/loss: 2.48e-08\n",
      "INFO:TrainMonitor:ep: 135, T: 368,701, G: 0, avg_G: 0.00732, t: 2745, dt: 11.622ms, loss: 2.38e-08, policy/entropy: 7.89e-21, policy/kl_div: 9.95e-20, policy/loss: -3.38e-08, value/loss: 2.88e-08\n",
      "INFO:TrainMonitor:ep: 136, T: 371,442, G: 0, avg_G: 0.00725, t: 2740, dt: 10.822ms, loss: 5.07e-07, policy/entropy: 1.58e-21, policy/kl_div: 1.99e-20, policy/loss: 4.35e-07, value/loss: 3.62e-08\n",
      "INFO:TrainMonitor:ep: 137, T: 374,194, G: 0, avg_G: 0.00718, t: 2751, dt: 10.750ms, loss: 1.38e-07, policy/entropy: 3.16e-22, policy/kl_div: 3.99e-21, policy/loss: 9.18e-08, value/loss: 2.31e-08\n",
      "INFO:TrainMonitor:ep: 138, T: 376,925, G: 0, avg_G: 0.00711, t: 2730, dt: 10.965ms, loss: -3.29e-08, policy/entropy: 6.33e-23, policy/kl_div: 7.99e-22, policy/loss: -6.58e-08, value/loss: 1.65e-08\n",
      "INFO:TrainMonitor:ep: 139, T: 379,672, G: 0, avg_G: 0.00703, t: 2746, dt: 11.157ms, loss: -8.47e-09, policy/entropy: 1.08e-23, policy/kl_div: 1.36e-22, policy/loss: -1.56e-08, value/loss: 3.57e-09\n",
      "INFO:TrainMonitor:ep: 140, T: 382,423, G: 0, avg_G: 0.00696, t: 2750, dt: 11.383ms, loss: 7.33e-07, policy/entropy: 2.16e-24, policy/kl_div: 2.73e-23, policy/loss: 6.72e-07, value/loss: 3.04e-08\n",
      "INFO:TrainMonitor:ep: 141, T: 385,153, G: 0, avg_G: 0.00689, t: 2729, dt: 6.097ms, loss: 7.33e-07, policy/entropy: 2.16e-24, policy/kl_div: 2.73e-23, policy/loss: 6.72e-07, value/loss: 3.04e-08\n",
      "INFO:generate_gif:recorded episode to: Logs/000140.gif\n",
      "INFO:TrainMonitor:ep: 142, T: 387,874, G: 0, avg_G: 0.00683, t: 2720, dt: 11.582ms, loss: 8.4e-07, policy/entropy: 4.33e-25, policy/kl_div: 5.46e-24, policy/loss: 5.81e-07, value/loss: 1.29e-07\n",
      "INFO:TrainMonitor:ep: 143, T: 390,590, G: 0, avg_G: 0.00676, t: 2715, dt: 12.477ms, loss: 4.62e-07, policy/entropy: 7.39e-26, policy/kl_div: 9.32e-25, policy/loss: 3.31e-07, value/loss: 6.54e-08\n",
      "INFO:TrainMonitor:ep: 144, T: 393,336, G: 0, avg_G: 0.00669, t: 2745, dt: 11.576ms, loss: 2.71e-06, policy/entropy: 1.48e-26, policy/kl_div: 1.87e-25, policy/loss: 2.46e-06, value/loss: 1.27e-07\n",
      "INFO:TrainMonitor:ep: 145, T: 396,062, G: 0, avg_G: 0.00662, t: 2725, dt: 11.481ms, loss: 9.46e-07, policy/entropy: 2.96e-27, policy/kl_div: 3.74e-26, policy/loss: 7.44e-07, value/loss: 1.01e-07\n",
      "INFO:TrainMonitor:ep: 146, T: 398,785, G: 0, avg_G: 0.00656, t: 2722, dt: 11.624ms, loss: -2.35e-06, policy/entropy: 5.94e-28, policy/kl_div: 7.49e-27, policy/loss: -3.12e-06, value/loss: 3.86e-07\n"
     ]
    }
   ],
   "source": [
    "while env.T < 1000000:\n",
    "    s = env.reset()\n",
    "\n",
    "    for t in range(env.spec.max_episode_steps):\n",
    "        a = pi(s, use_target_model=True)  # target_model == pi_old\n",
    "        s_next, r, done, info = env.step(a)\n",
    "\n",
    "        buffer.add(s, a, r, done, env.ep)\n",
    "\n",
    "        if len(buffer) >= buffer.capacity:\n",
    "            num_batches = int(4 * buffer.capacity / buffer.batch_size)\n",
    "            for _ in range(num_batches):\n",
    "                actor_critic.batch_update(*buffer.sample())\n",
    "            buffer.clear()\n",
    "\n",
    "            actor_critic.sync_target_model(tau=0.1)\n",
    "\n",
    "        if done:\n",
    "            break\n",
    "\n",
    "        s = s_next\n",
    "\n",
    "    if env.ep % 10 == 0:\n",
    "        km.utils.generate_gif(\n",
    "            env=env,\n",
    "            policy=pi,\n",
    "            filepath='Logs/{:06d}.gif'.format(env.ep),\n",
    "            resize_to=(320, 420))"
   ]
  },
  {
   "cell_type": "code",
   "execution_count": null,
   "metadata": {},
   "outputs": [],
   "source": []
  }
 ]
}