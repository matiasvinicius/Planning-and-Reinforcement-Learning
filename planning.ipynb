{
 "metadata": {
  "language_info": {
   "codemirror_mode": {
    "name": "ipython",
    "version": 3
   },
   "file_extension": ".py",
   "mimetype": "text/x-python",
   "name": "python",
   "nbconvert_exporter": "python",
   "pygments_lexer": "ipython3",
   "version": "3.8.5"
  },
  "orig_nbformat": 4,
  "kernelspec": {
   "name": "python3",
   "display_name": "Python 3.8.5 64-bit"
  },
  "interpreter": {
   "hash": "916dbcbb3f70747c44a77c7bcd40155683ae19c65e1c03b4aa3499c5328201f1"
  }
 },
 "nbformat": 4,
 "nbformat_minor": 2,
 "cells": [
  {
   "source": [
    "Bibliotecas"
   ],
   "cell_type": "markdown",
   "metadata": {}
  },
  {
   "cell_type": "code",
   "execution_count": 1,
   "metadata": {},
   "outputs": [],
   "source": [
    "import numpy as np\n",
    "from random import randint\n",
    "from numpy.core.numeric import Inf\n",
    "import matplotlib.pyplot as plt"
   ]
  },
  {
   "source": [
    "Ambiente"
   ],
   "cell_type": "markdown",
   "metadata": {}
  },
  {
   "cell_type": "code",
   "execution_count": 2,
   "metadata": {},
   "outputs": [],
   "source": [
    "def create_env(n_rows, n_cols):\n",
    "    env = np.full((n_rows, n_cols), '-')\n",
    "    env = add_margin(env)\n",
    "    env = add_vehicles(env)\n",
    "    env = add_player(env)\n",
    "    return env"
   ]
  },
  {
   "cell_type": "code",
   "execution_count": 3,
   "metadata": {},
   "outputs": [],
   "source": [
    "def add_vehicles(env):\n",
    "    n_rows = env.shape[0]\n",
    "    n_cols = env.shape[1]\n",
    "    for row in range(1, n_rows-1):\n",
    "        column_with_vehicle = randint(0, n_cols-1)\n",
    "        env[row, column_with_vehicle] = 'O'\n",
    "    return env    "
   ]
  },
  {
   "cell_type": "code",
   "execution_count": 4,
   "metadata": {},
   "outputs": [],
   "source": [
    "def add_player(env):\n",
    "    mid_col = env.shape[1] // 2\n",
    "    env[0,mid_col] = 'A'\n",
    "    return env"
   ]
  },
  {
   "cell_type": "code",
   "execution_count": 5,
   "metadata": {},
   "outputs": [],
   "source": [
    "def add_margin(env):\n",
    "    env[0] = 'I'\n",
    "    env[-1] = 'F'\n",
    "    return env"
   ]
  },
  {
   "cell_type": "code",
   "execution_count": 6,
   "metadata": {},
   "outputs": [],
   "source": [
    "def move_player(env, pos_A, new_pos_A):\n",
    "    mid_col = env.shape[1] // 2\n",
    "    if env[pos_A, mid_col] != 'O': env[pos_A, mid_col] = '-'\n",
    "    while env[new_pos_A, mid_col] == 'O':\n",
    "        valid_pos = max(0, new_pos_A-2)\n",
    "        new_pos_A = valid_pos\n",
    "    env[new_pos_A, mid_col] = 'A'\n",
    "    return env"
   ]
  },
  {
   "cell_type": "code",
   "execution_count": 7,
   "metadata": {},
   "outputs": [],
   "source": [
    "def get_player(env):\n",
    "    mid_col = (len(env[:][0])) // 2\n",
    "    for i in range(len(env)):\n",
    "        if env[i, mid_col] == 'A':\n",
    "            return i\n",
    "    return False"
   ]
  },
  {
   "cell_type": "code",
   "execution_count": 8,
   "metadata": {},
   "outputs": [],
   "source": [
    "def move_vehicles(env):\n",
    "    n_rows, n_cols = env.shape\n",
    "    for row in range(1, n_rows-1):\n",
    "        pos_vechicle = np.where(env[row,] == 'O')[0]\n",
    "        if pos_vechicle > 0: \n",
    "            if env[row, pos_vechicle-1] == 'A': \n",
    "                env = move_player(env, row, row-2)\n",
    "            env[row, pos_vechicle-1] = 'O'\n",
    "        else:\n",
    "            if env[row, pos_vechicle-1] == 'A': \n",
    "                env = move_player(env, row, row-2)\n",
    "            env[row, -1] = 'O'\n",
    "        env[row, pos_vechicle] = '-'\n",
    "    return env"
   ]
  },
  {
   "cell_type": "code",
   "execution_count": 9,
   "metadata": {},
   "outputs": [],
   "source": [
    "def is_valid_state(state, action, s_linha, n_states):\n",
    "    if state+action < 0 or state+action >= n_states: \n",
    "        return False\n",
    "    if state+action == s_linha: return True\n",
    "    return False"
   ]
  },
  {
   "cell_type": "code",
   "execution_count": 10,
   "metadata": {},
   "outputs": [],
   "source": [
    "def transition_matrix(states, actions):\n",
    "    n_states = len(states)\n",
    "    n_actions = len(actions)\n",
    "    transition = np.zeros((n_states, n_actions, n_states))  \n",
    "    \n",
    "    for state in states:\n",
    "        for action in range(n_actions):\n",
    "            s_linha = state + actions[action]\n",
    "            if (s_linha < 0 or \n",
    "            s_linha >= n_states or \n",
    "            state == (n_states)-1):\n",
    "                s_linha = state\n",
    "            transition[state, action, s_linha] = 1\n",
    "    return transition"
   ]
  },
  {
   "cell_type": "code",
   "execution_count": 11,
   "metadata": {},
   "outputs": [],
   "source": [
    "def is_terminal_state(env, pos):\n",
    "    if pos == env.shape[0]-1:\n",
    "        return True\n",
    "    return False"
   ]
  },
  {
   "source": [
    "Value Iteration"
   ],
   "cell_type": "markdown",
   "metadata": {}
  },
  {
   "cell_type": "code",
   "execution_count": 12,
   "metadata": {},
   "outputs": [],
   "source": [
    "def value_iteration(states, actions, rewards, transition, V):\n",
    "    n_equacoes = 0\n",
    "    while True:\n",
    "        old_v = V\n",
    "        for s in reversed(range(len(states))):\n",
    "            v = V[s]\n",
    "            max_v = 0\n",
    "            for a in actions:\n",
    "                v_this_action = 0\n",
    "                for s_linha in reversed(range(len(states))):\n",
    "                    v_this_action += rewards[states[s_linha]] + transition[s,a,s_linha]*old_v[s_linha]\n",
    "                    n_equacoes +=1\n",
    "                    if v_this_action > max_v:\n",
    "                        max_v = v_this_action\n",
    "            V[s] = max_v\n",
    "        if all(old_v[s] == V[s] for s in range(len(states))): break\n",
    "    return V, n_equacoes"
   ]
  },
  {
   "source": [
    "Hiperparâmetros"
   ],
   "cell_type": "markdown",
   "metadata": {}
  },
  {
   "cell_type": "code",
   "execution_count": 13,
   "metadata": {
    "tags": []
   },
   "outputs": [],
   "source": [
    "temp_env = create_env(10,9)\n",
    "mid_col = temp_env.shape[1] // 2\n",
    "n_games = 360\n",
    "\n",
    "equacoes = list()\n",
    "scores = list()\n",
    "mid_col = temp_env.shape[1] // 2\n",
    "time_limit = 272\n",
    "actions = np.array([1, 0, -1])\n",
    "rewards = {'O':-1, '-':0, 'A':0, 'I':0, 'F':1}\n",
    "transition = transition_matrix(np.arange(len(temp_env)), actions)\n",
    "mean_score = 0"
   ]
  },
  {
   "source": [
    "Execução de 1000 jogos com Value Iteration"
   ],
   "cell_type": "markdown",
   "metadata": {}
  },
  {
   "cell_type": "code",
   "execution_count": 14,
   "metadata": {
    "tags": []
   },
   "outputs": [
    {
     "output_type": "stream",
     "name": "stdout",
     "text": [
      "Iteração 0\n",
      "Iteração 100\n",
      "Iteração 200\n",
      "Iteração 300\n",
      "MEAN SCORE: 25.666666666666668\n"
     ]
    }
   ],
   "source": [
    "for game in range(n_games):\n",
    "    env = create_env(10,9)\n",
    "    pos_a = get_player(env)\n",
    "    score = 0\n",
    "    for i in range(time_limit):\n",
    "        V = [0 for _ in range(len(env))]\n",
    "        states = env[:,mid_col+1]\n",
    "        v_i, n_equacoes = value_iteration(states, actions, rewards, transition, V)\n",
    "        equacoes.append(n_equacoes)\n",
    "        arg_max_act = 0\n",
    "        possible_actions = []\n",
    "        best_act = 0\n",
    "\n",
    "        for pos_a_linha in range(len(states)):\n",
    "            for action in actions:\n",
    "                if transition[pos_a, action, pos_a_linha] != 0:\n",
    "                    possible_actions.append(transition[pos_a, action, pos_a_linha])\n",
    "        for possible_action in possible_actions:\n",
    "            if v_i[int(pos_a + possible_action)] > arg_max_act:\n",
    "                arg_max_act = v_i[int(pos_a + possible_action)]\n",
    "                best_act = possible_action\n",
    "\n",
    "        env = move_player(env, pos_a, int(pos_a + best_act))\n",
    "        env = move_vehicles(env)\n",
    "        pos_a = get_player(env)\n",
    "        if is_terminal_state(env, pos_a):\n",
    "            score += 1\n",
    "            env[0,mid_col] = 'A'\n",
    "            env[env.shape[0]-1,mid_col] = 'F'\n",
    "            pos_a = get_player(env)\n",
    "    mean_score += score\n",
    "    scores.append(score)\n",
    "    if game % 100 == 0: print(\"Iteração\", game)\n",
    "\n",
    "mean_score /= n_games\n",
    "print(\"MEAN SCORE:\", mean_score)"
   ]
  },
  {
   "cell_type": "code",
   "execution_count": 15,
   "metadata": {},
   "outputs": [
    {
     "output_type": "execute_result",
     "data": {
      "text/plain": [
       "Text(0, 0.5, 'Score')"
      ]
     },
     "metadata": {},
     "execution_count": 15
    },
    {
     "output_type": "display_data",
     "data": {
      "text/plain": "<Figure size 432x288 with 1 Axes>",
      "image/svg+xml": "<?xml version=\"1.0\" encoding=\"utf-8\" standalone=\"no\"?>\n<!DOCTYPE svg PUBLIC \"-//W3C//DTD SVG 1.1//EN\"\n  \"http://www.w3.org/Graphics/SVG/1.1/DTD/svg11.dtd\">\n<svg height=\"277.336875pt\" version=\"1.1\" viewBox=\"0 0 382.603125 277.336875\" width=\"382.603125pt\" xmlns=\"http://www.w3.org/2000/svg\" xmlns:xlink=\"http://www.w3.org/1999/xlink\">\n <metadata>\n  <rdf:RDF xmlns:cc=\"http://creativecommons.org/ns#\" xmlns:dc=\"http://purl.org/dc/elements/1.1/\" xmlns:rdf=\"http://www.w3.org/1999/02/22-rdf-syntax-ns#\">\n   <cc:Work>\n    <dc:type rdf:resource=\"http://purl.org/dc/dcmitype/StillImage\"/>\n    <dc:date>2021-06-27T20:15:45.048524</dc:date>\n    <dc:format>image/svg+xml</dc:format>\n    <dc:creator>\n     <cc:Agent>\n      <dc:title>Matplotlib v3.4.2, https://matplotlib.org/</dc:title>\n     </cc:Agent>\n    </dc:creator>\n   </cc:Work>\n  </rdf:RDF>\n </metadata>\n <defs>\n  <style type=\"text/css\">*{stroke-linecap:butt;stroke-linejoin:round;}</style>\n </defs>\n <g id=\"figure_1\">\n  <g id=\"patch_1\">\n   <path d=\"M 0 277.336875 \nL 382.603125 277.336875 \nL 382.603125 0 \nL 0 0 \nz\n\" style=\"fill:none;\"/>\n  </g>\n  <g id=\"axes_1\">\n   <g id=\"patch_2\">\n    <path d=\"M 40.603125 239.780625 \nL 375.403125 239.780625 \nL 375.403125 22.340625 \nL 40.603125 22.340625 \nz\n\" style=\"fill:#ffffff;\"/>\n   </g>\n   <g id=\"matplotlib.axis_1\">\n    <g id=\"xtick_1\">\n     <g id=\"line2d_1\">\n      <defs>\n       <path d=\"M 0 0 \nL 0 3.5 \n\" id=\"m12dac1763e\" style=\"stroke:#000000;stroke-width:0.8;\"/>\n      </defs>\n      <g>\n       <use style=\"stroke:#000000;stroke-width:0.8;\" x=\"55.821307\" xlink:href=\"#m12dac1763e\" y=\"239.780625\"/>\n      </g>\n     </g>\n     <g id=\"text_1\">\n      <!-- 0 -->\n      <g transform=\"translate(52.640057 254.379062)scale(0.1 -0.1)\">\n       <defs>\n        <path d=\"M 2034 4250 \nQ 1547 4250 1301 3770 \nQ 1056 3291 1056 2328 \nQ 1056 1369 1301 889 \nQ 1547 409 2034 409 \nQ 2525 409 2770 889 \nQ 3016 1369 3016 2328 \nQ 3016 3291 2770 3770 \nQ 2525 4250 2034 4250 \nz\nM 2034 4750 \nQ 2819 4750 3233 4129 \nQ 3647 3509 3647 2328 \nQ 3647 1150 3233 529 \nQ 2819 -91 2034 -91 \nQ 1250 -91 836 529 \nQ 422 1150 422 2328 \nQ 422 3509 836 4129 \nQ 1250 4750 2034 4750 \nz\n\" id=\"DejaVuSans-30\" transform=\"scale(0.015625)\"/>\n       </defs>\n       <use xlink:href=\"#DejaVuSans-30\"/>\n      </g>\n     </g>\n    </g>\n    <g id=\"xtick_2\">\n     <g id=\"line2d_2\">\n      <g>\n       <use style=\"stroke:#000000;stroke-width:0.8;\" x=\"98.211785\" xlink:href=\"#m12dac1763e\" y=\"239.780625\"/>\n      </g>\n     </g>\n     <g id=\"text_2\">\n      <!-- 50 -->\n      <g transform=\"translate(91.849285 254.379062)scale(0.1 -0.1)\">\n       <defs>\n        <path d=\"M 691 4666 \nL 3169 4666 \nL 3169 4134 \nL 1269 4134 \nL 1269 2991 \nQ 1406 3038 1543 3061 \nQ 1681 3084 1819 3084 \nQ 2600 3084 3056 2656 \nQ 3513 2228 3513 1497 \nQ 3513 744 3044 326 \nQ 2575 -91 1722 -91 \nQ 1428 -91 1123 -41 \nQ 819 9 494 109 \nL 494 744 \nQ 775 591 1075 516 \nQ 1375 441 1709 441 \nQ 2250 441 2565 725 \nQ 2881 1009 2881 1497 \nQ 2881 1984 2565 2268 \nQ 2250 2553 1709 2553 \nQ 1456 2553 1204 2497 \nQ 953 2441 691 2322 \nL 691 4666 \nz\n\" id=\"DejaVuSans-35\" transform=\"scale(0.015625)\"/>\n       </defs>\n       <use xlink:href=\"#DejaVuSans-35\"/>\n       <use x=\"63.623047\" xlink:href=\"#DejaVuSans-30\"/>\n      </g>\n     </g>\n    </g>\n    <g id=\"xtick_3\">\n     <g id=\"line2d_3\">\n      <g>\n       <use style=\"stroke:#000000;stroke-width:0.8;\" x=\"140.602264\" xlink:href=\"#m12dac1763e\" y=\"239.780625\"/>\n      </g>\n     </g>\n     <g id=\"text_3\">\n      <!-- 100 -->\n      <g transform=\"translate(131.058514 254.379062)scale(0.1 -0.1)\">\n       <defs>\n        <path d=\"M 794 531 \nL 1825 531 \nL 1825 4091 \nL 703 3866 \nL 703 4441 \nL 1819 4666 \nL 2450 4666 \nL 2450 531 \nL 3481 531 \nL 3481 0 \nL 794 0 \nL 794 531 \nz\n\" id=\"DejaVuSans-31\" transform=\"scale(0.015625)\"/>\n       </defs>\n       <use xlink:href=\"#DejaVuSans-31\"/>\n       <use x=\"63.623047\" xlink:href=\"#DejaVuSans-30\"/>\n       <use x=\"127.246094\" xlink:href=\"#DejaVuSans-30\"/>\n      </g>\n     </g>\n    </g>\n    <g id=\"xtick_4\">\n     <g id=\"line2d_4\">\n      <g>\n       <use style=\"stroke:#000000;stroke-width:0.8;\" x=\"182.992743\" xlink:href=\"#m12dac1763e\" y=\"239.780625\"/>\n      </g>\n     </g>\n     <g id=\"text_4\">\n      <!-- 150 -->\n      <g transform=\"translate(173.448993 254.379062)scale(0.1 -0.1)\">\n       <use xlink:href=\"#DejaVuSans-31\"/>\n       <use x=\"63.623047\" xlink:href=\"#DejaVuSans-35\"/>\n       <use x=\"127.246094\" xlink:href=\"#DejaVuSans-30\"/>\n      </g>\n     </g>\n    </g>\n    <g id=\"xtick_5\">\n     <g id=\"line2d_5\">\n      <g>\n       <use style=\"stroke:#000000;stroke-width:0.8;\" x=\"225.383221\" xlink:href=\"#m12dac1763e\" y=\"239.780625\"/>\n      </g>\n     </g>\n     <g id=\"text_5\">\n      <!-- 200 -->\n      <g transform=\"translate(215.839471 254.379062)scale(0.1 -0.1)\">\n       <defs>\n        <path d=\"M 1228 531 \nL 3431 531 \nL 3431 0 \nL 469 0 \nL 469 531 \nQ 828 903 1448 1529 \nQ 2069 2156 2228 2338 \nQ 2531 2678 2651 2914 \nQ 2772 3150 2772 3378 \nQ 2772 3750 2511 3984 \nQ 2250 4219 1831 4219 \nQ 1534 4219 1204 4116 \nQ 875 4013 500 3803 \nL 500 4441 \nQ 881 4594 1212 4672 \nQ 1544 4750 1819 4750 \nQ 2544 4750 2975 4387 \nQ 3406 4025 3406 3419 \nQ 3406 3131 3298 2873 \nQ 3191 2616 2906 2266 \nQ 2828 2175 2409 1742 \nQ 1991 1309 1228 531 \nz\n\" id=\"DejaVuSans-32\" transform=\"scale(0.015625)\"/>\n       </defs>\n       <use xlink:href=\"#DejaVuSans-32\"/>\n       <use x=\"63.623047\" xlink:href=\"#DejaVuSans-30\"/>\n       <use x=\"127.246094\" xlink:href=\"#DejaVuSans-30\"/>\n      </g>\n     </g>\n    </g>\n    <g id=\"xtick_6\">\n     <g id=\"line2d_6\">\n      <g>\n       <use style=\"stroke:#000000;stroke-width:0.8;\" x=\"267.7737\" xlink:href=\"#m12dac1763e\" y=\"239.780625\"/>\n      </g>\n     </g>\n     <g id=\"text_6\">\n      <!-- 250 -->\n      <g transform=\"translate(258.22995 254.379062)scale(0.1 -0.1)\">\n       <use xlink:href=\"#DejaVuSans-32\"/>\n       <use x=\"63.623047\" xlink:href=\"#DejaVuSans-35\"/>\n       <use x=\"127.246094\" xlink:href=\"#DejaVuSans-30\"/>\n      </g>\n     </g>\n    </g>\n    <g id=\"xtick_7\">\n     <g id=\"line2d_7\">\n      <g>\n       <use style=\"stroke:#000000;stroke-width:0.8;\" x=\"310.164178\" xlink:href=\"#m12dac1763e\" y=\"239.780625\"/>\n      </g>\n     </g>\n     <g id=\"text_7\">\n      <!-- 300 -->\n      <g transform=\"translate(300.620428 254.379062)scale(0.1 -0.1)\">\n       <defs>\n        <path d=\"M 2597 2516 \nQ 3050 2419 3304 2112 \nQ 3559 1806 3559 1356 \nQ 3559 666 3084 287 \nQ 2609 -91 1734 -91 \nQ 1441 -91 1130 -33 \nQ 819 25 488 141 \nL 488 750 \nQ 750 597 1062 519 \nQ 1375 441 1716 441 \nQ 2309 441 2620 675 \nQ 2931 909 2931 1356 \nQ 2931 1769 2642 2001 \nQ 2353 2234 1838 2234 \nL 1294 2234 \nL 1294 2753 \nL 1863 2753 \nQ 2328 2753 2575 2939 \nQ 2822 3125 2822 3475 \nQ 2822 3834 2567 4026 \nQ 2313 4219 1838 4219 \nQ 1578 4219 1281 4162 \nQ 984 4106 628 3988 \nL 628 4550 \nQ 988 4650 1302 4700 \nQ 1616 4750 1894 4750 \nQ 2613 4750 3031 4423 \nQ 3450 4097 3450 3541 \nQ 3450 3153 3228 2886 \nQ 3006 2619 2597 2516 \nz\n\" id=\"DejaVuSans-33\" transform=\"scale(0.015625)\"/>\n       </defs>\n       <use xlink:href=\"#DejaVuSans-33\"/>\n       <use x=\"63.623047\" xlink:href=\"#DejaVuSans-30\"/>\n       <use x=\"127.246094\" xlink:href=\"#DejaVuSans-30\"/>\n      </g>\n     </g>\n    </g>\n    <g id=\"xtick_8\">\n     <g id=\"line2d_8\">\n      <g>\n       <use style=\"stroke:#000000;stroke-width:0.8;\" x=\"352.554657\" xlink:href=\"#m12dac1763e\" y=\"239.780625\"/>\n      </g>\n     </g>\n     <g id=\"text_8\">\n      <!-- 350 -->\n      <g transform=\"translate(343.010907 254.379062)scale(0.1 -0.1)\">\n       <use xlink:href=\"#DejaVuSans-33\"/>\n       <use x=\"63.623047\" xlink:href=\"#DejaVuSans-35\"/>\n       <use x=\"127.246094\" xlink:href=\"#DejaVuSans-30\"/>\n      </g>\n     </g>\n    </g>\n    <g id=\"text_9\">\n     <!-- Jogos -->\n     <g transform=\"translate(194.630469 268.057187)scale(0.1 -0.1)\">\n      <defs>\n       <path d=\"M 628 4666 \nL 1259 4666 \nL 1259 325 \nQ 1259 -519 939 -900 \nQ 619 -1281 -91 -1281 \nL -331 -1281 \nL -331 -750 \nL -134 -750 \nQ 284 -750 456 -515 \nQ 628 -281 628 325 \nL 628 4666 \nz\n\" id=\"DejaVuSans-4a\" transform=\"scale(0.015625)\"/>\n       <path d=\"M 1959 3097 \nQ 1497 3097 1228 2736 \nQ 959 2375 959 1747 \nQ 959 1119 1226 758 \nQ 1494 397 1959 397 \nQ 2419 397 2687 759 \nQ 2956 1122 2956 1747 \nQ 2956 2369 2687 2733 \nQ 2419 3097 1959 3097 \nz\nM 1959 3584 \nQ 2709 3584 3137 3096 \nQ 3566 2609 3566 1747 \nQ 3566 888 3137 398 \nQ 2709 -91 1959 -91 \nQ 1206 -91 779 398 \nQ 353 888 353 1747 \nQ 353 2609 779 3096 \nQ 1206 3584 1959 3584 \nz\n\" id=\"DejaVuSans-6f\" transform=\"scale(0.015625)\"/>\n       <path d=\"M 2906 1791 \nQ 2906 2416 2648 2759 \nQ 2391 3103 1925 3103 \nQ 1463 3103 1205 2759 \nQ 947 2416 947 1791 \nQ 947 1169 1205 825 \nQ 1463 481 1925 481 \nQ 2391 481 2648 825 \nQ 2906 1169 2906 1791 \nz\nM 3481 434 \nQ 3481 -459 3084 -895 \nQ 2688 -1331 1869 -1331 \nQ 1566 -1331 1297 -1286 \nQ 1028 -1241 775 -1147 \nL 775 -588 \nQ 1028 -725 1275 -790 \nQ 1522 -856 1778 -856 \nQ 2344 -856 2625 -561 \nQ 2906 -266 2906 331 \nL 2906 616 \nQ 2728 306 2450 153 \nQ 2172 0 1784 0 \nQ 1141 0 747 490 \nQ 353 981 353 1791 \nQ 353 2603 747 3093 \nQ 1141 3584 1784 3584 \nQ 2172 3584 2450 3431 \nQ 2728 3278 2906 2969 \nL 2906 3500 \nL 3481 3500 \nL 3481 434 \nz\n\" id=\"DejaVuSans-67\" transform=\"scale(0.015625)\"/>\n       <path d=\"M 2834 3397 \nL 2834 2853 \nQ 2591 2978 2328 3040 \nQ 2066 3103 1784 3103 \nQ 1356 3103 1142 2972 \nQ 928 2841 928 2578 \nQ 928 2378 1081 2264 \nQ 1234 2150 1697 2047 \nL 1894 2003 \nQ 2506 1872 2764 1633 \nQ 3022 1394 3022 966 \nQ 3022 478 2636 193 \nQ 2250 -91 1575 -91 \nQ 1294 -91 989 -36 \nQ 684 19 347 128 \nL 347 722 \nQ 666 556 975 473 \nQ 1284 391 1588 391 \nQ 1994 391 2212 530 \nQ 2431 669 2431 922 \nQ 2431 1156 2273 1281 \nQ 2116 1406 1581 1522 \nL 1381 1569 \nQ 847 1681 609 1914 \nQ 372 2147 372 2553 \nQ 372 3047 722 3315 \nQ 1072 3584 1716 3584 \nQ 2034 3584 2315 3537 \nQ 2597 3491 2834 3397 \nz\n\" id=\"DejaVuSans-73\" transform=\"scale(0.015625)\"/>\n      </defs>\n      <use xlink:href=\"#DejaVuSans-4a\"/>\n      <use x=\"29.492188\" xlink:href=\"#DejaVuSans-6f\"/>\n      <use x=\"90.673828\" xlink:href=\"#DejaVuSans-67\"/>\n      <use x=\"154.150391\" xlink:href=\"#DejaVuSans-6f\"/>\n      <use x=\"215.332031\" xlink:href=\"#DejaVuSans-73\"/>\n     </g>\n    </g>\n   </g>\n   <g id=\"matplotlib.axis_2\">\n    <g id=\"ytick_1\">\n     <g id=\"line2d_9\">\n      <defs>\n       <path d=\"M 0 0 \nL -3.5 0 \n\" id=\"mb57aa933ec\" style=\"stroke:#000000;stroke-width:0.8;\"/>\n      </defs>\n      <g>\n       <use style=\"stroke:#000000;stroke-width:0.8;\" x=\"40.603125\" xlink:href=\"#mb57aa933ec\" y=\"229.896989\"/>\n      </g>\n     </g>\n     <g id=\"text_10\">\n      <!-- 0 -->\n      <g transform=\"translate(27.240625 233.696207)scale(0.1 -0.1)\">\n       <use xlink:href=\"#DejaVuSans-30\"/>\n      </g>\n     </g>\n    </g>\n    <g id=\"ytick_2\">\n     <g id=\"line2d_10\">\n      <g>\n       <use style=\"stroke:#000000;stroke-width:0.8;\" x=\"40.603125\" xlink:href=\"#mb57aa933ec\" y=\"198.014291\"/>\n      </g>\n     </g>\n     <g id=\"text_11\">\n      <!-- 5 -->\n      <g transform=\"translate(27.240625 201.813509)scale(0.1 -0.1)\">\n       <use xlink:href=\"#DejaVuSans-35\"/>\n      </g>\n     </g>\n    </g>\n    <g id=\"ytick_3\">\n     <g id=\"line2d_11\">\n      <g>\n       <use style=\"stroke:#000000;stroke-width:0.8;\" x=\"40.603125\" xlink:href=\"#mb57aa933ec\" y=\"166.131593\"/>\n      </g>\n     </g>\n     <g id=\"text_12\">\n      <!-- 10 -->\n      <g transform=\"translate(20.878125 169.930811)scale(0.1 -0.1)\">\n       <use xlink:href=\"#DejaVuSans-31\"/>\n       <use x=\"63.623047\" xlink:href=\"#DejaVuSans-30\"/>\n      </g>\n     </g>\n    </g>\n    <g id=\"ytick_4\">\n     <g id=\"line2d_12\">\n      <g>\n       <use style=\"stroke:#000000;stroke-width:0.8;\" x=\"40.603125\" xlink:href=\"#mb57aa933ec\" y=\"134.248895\"/>\n      </g>\n     </g>\n     <g id=\"text_13\">\n      <!-- 15 -->\n      <g transform=\"translate(20.878125 138.048114)scale(0.1 -0.1)\">\n       <use xlink:href=\"#DejaVuSans-31\"/>\n       <use x=\"63.623047\" xlink:href=\"#DejaVuSans-35\"/>\n      </g>\n     </g>\n    </g>\n    <g id=\"ytick_5\">\n     <g id=\"line2d_13\">\n      <g>\n       <use style=\"stroke:#000000;stroke-width:0.8;\" x=\"40.603125\" xlink:href=\"#mb57aa933ec\" y=\"102.366197\"/>\n      </g>\n     </g>\n     <g id=\"text_14\">\n      <!-- 20 -->\n      <g transform=\"translate(20.878125 106.165416)scale(0.1 -0.1)\">\n       <use xlink:href=\"#DejaVuSans-32\"/>\n       <use x=\"63.623047\" xlink:href=\"#DejaVuSans-30\"/>\n      </g>\n     </g>\n    </g>\n    <g id=\"ytick_6\">\n     <g id=\"line2d_14\">\n      <g>\n       <use style=\"stroke:#000000;stroke-width:0.8;\" x=\"40.603125\" xlink:href=\"#mb57aa933ec\" y=\"70.483499\"/>\n      </g>\n     </g>\n     <g id=\"text_15\">\n      <!-- 25 -->\n      <g transform=\"translate(20.878125 74.282718)scale(0.1 -0.1)\">\n       <use xlink:href=\"#DejaVuSans-32\"/>\n       <use x=\"63.623047\" xlink:href=\"#DejaVuSans-35\"/>\n      </g>\n     </g>\n    </g>\n    <g id=\"ytick_7\">\n     <g id=\"line2d_15\">\n      <g>\n       <use style=\"stroke:#000000;stroke-width:0.8;\" x=\"40.603125\" xlink:href=\"#mb57aa933ec\" y=\"38.600801\"/>\n      </g>\n     </g>\n     <g id=\"text_16\">\n      <!-- 30 -->\n      <g transform=\"translate(20.878125 42.40002)scale(0.1 -0.1)\">\n       <use xlink:href=\"#DejaVuSans-33\"/>\n       <use x=\"63.623047\" xlink:href=\"#DejaVuSans-30\"/>\n      </g>\n     </g>\n    </g>\n    <g id=\"text_17\">\n     <!-- Score -->\n     <g transform=\"translate(14.798438 145.062969)rotate(-90)scale(0.1 -0.1)\">\n      <defs>\n       <path d=\"M 3425 4513 \nL 3425 3897 \nQ 3066 4069 2747 4153 \nQ 2428 4238 2131 4238 \nQ 1616 4238 1336 4038 \nQ 1056 3838 1056 3469 \nQ 1056 3159 1242 3001 \nQ 1428 2844 1947 2747 \nL 2328 2669 \nQ 3034 2534 3370 2195 \nQ 3706 1856 3706 1288 \nQ 3706 609 3251 259 \nQ 2797 -91 1919 -91 \nQ 1588 -91 1214 -16 \nQ 841 59 441 206 \nL 441 856 \nQ 825 641 1194 531 \nQ 1563 422 1919 422 \nQ 2459 422 2753 634 \nQ 3047 847 3047 1241 \nQ 3047 1584 2836 1778 \nQ 2625 1972 2144 2069 \nL 1759 2144 \nQ 1053 2284 737 2584 \nQ 422 2884 422 3419 \nQ 422 4038 858 4394 \nQ 1294 4750 2059 4750 \nQ 2388 4750 2728 4690 \nQ 3069 4631 3425 4513 \nz\n\" id=\"DejaVuSans-53\" transform=\"scale(0.015625)\"/>\n       <path d=\"M 3122 3366 \nL 3122 2828 \nQ 2878 2963 2633 3030 \nQ 2388 3097 2138 3097 \nQ 1578 3097 1268 2742 \nQ 959 2388 959 1747 \nQ 959 1106 1268 751 \nQ 1578 397 2138 397 \nQ 2388 397 2633 464 \nQ 2878 531 3122 666 \nL 3122 134 \nQ 2881 22 2623 -34 \nQ 2366 -91 2075 -91 \nQ 1284 -91 818 406 \nQ 353 903 353 1747 \nQ 353 2603 823 3093 \nQ 1294 3584 2113 3584 \nQ 2378 3584 2631 3529 \nQ 2884 3475 3122 3366 \nz\n\" id=\"DejaVuSans-63\" transform=\"scale(0.015625)\"/>\n       <path d=\"M 2631 2963 \nQ 2534 3019 2420 3045 \nQ 2306 3072 2169 3072 \nQ 1681 3072 1420 2755 \nQ 1159 2438 1159 1844 \nL 1159 0 \nL 581 0 \nL 581 3500 \nL 1159 3500 \nL 1159 2956 \nQ 1341 3275 1631 3429 \nQ 1922 3584 2338 3584 \nQ 2397 3584 2469 3576 \nQ 2541 3569 2628 3553 \nL 2631 2963 \nz\n\" id=\"DejaVuSans-72\" transform=\"scale(0.015625)\"/>\n       <path d=\"M 3597 1894 \nL 3597 1613 \nL 953 1613 \nQ 991 1019 1311 708 \nQ 1631 397 2203 397 \nQ 2534 397 2845 478 \nQ 3156 559 3463 722 \nL 3463 178 \nQ 3153 47 2828 -22 \nQ 2503 -91 2169 -91 \nQ 1331 -91 842 396 \nQ 353 884 353 1716 \nQ 353 2575 817 3079 \nQ 1281 3584 2069 3584 \nQ 2775 3584 3186 3129 \nQ 3597 2675 3597 1894 \nz\nM 3022 2063 \nQ 3016 2534 2758 2815 \nQ 2500 3097 2075 3097 \nQ 1594 3097 1305 2825 \nQ 1016 2553 972 2059 \nL 3022 2063 \nz\n\" id=\"DejaVuSans-65\" transform=\"scale(0.015625)\"/>\n      </defs>\n      <use xlink:href=\"#DejaVuSans-53\"/>\n      <use x=\"63.476562\" xlink:href=\"#DejaVuSans-63\"/>\n      <use x=\"118.457031\" xlink:href=\"#DejaVuSans-6f\"/>\n      <use x=\"179.638672\" xlink:href=\"#DejaVuSans-72\"/>\n      <use x=\"218.501953\" xlink:href=\"#DejaVuSans-65\"/>\n     </g>\n    </g>\n   </g>\n   <g id=\"line2d_16\">\n    <path clip-path=\"url(#p0b306b19cb)\" d=\"M 55.821307 102.366197 \nL 56.669116 229.896989 \nL 57.516926 44.977341 \nL 58.364736 44.977341 \nL 59.212545 76.860038 \nL 60.060355 44.977341 \nL 60.908164 38.600801 \nL 61.755974 44.977341 \nL 62.603783 38.600801 \nL 63.451593 134.248895 \nL 64.299403 44.977341 \nL 65.147212 38.600801 \nL 66.842831 38.600801 \nL 67.690641 44.977341 \nL 68.53845 38.600801 \nL 69.38626 134.248895 \nL 70.23407 44.977341 \nL 71.081879 38.600801 \nL 71.929689 44.977341 \nL 72.777498 38.600801 \nL 73.625308 102.366197 \nL 74.473117 115.119276 \nL 75.320927 134.248895 \nL 76.168737 44.977341 \nL 77.864356 44.977341 \nL 78.712165 38.600801 \nL 79.559975 127.872355 \nL 80.407784 38.600801 \nL 81.255594 51.35388 \nL 82.103404 44.977341 \nL 83.799023 44.977341 \nL 84.646832 38.600801 \nL 86.342451 38.600801 \nL 87.190261 44.977341 \nL 88.038071 44.977341 \nL 88.88588 51.35388 \nL 89.73369 44.977341 \nL 90.581499 127.872355 \nL 91.429309 38.600801 \nL 92.277118 44.977341 \nL 93.124928 127.872355 \nL 93.972738 134.248895 \nL 94.820547 127.872355 \nL 95.668357 38.600801 \nL 96.516166 134.248895 \nL 97.363976 38.600801 \nL 98.211785 38.600801 \nL 99.059595 44.977341 \nL 99.907405 38.600801 \nL 100.755214 44.977341 \nL 103.298643 44.977341 \nL 104.146452 38.600801 \nL 104.994262 38.600801 \nL 105.842072 44.977341 \nL 106.689881 134.248895 \nL 107.537691 44.977341 \nL 109.23331 44.977341 \nL 110.081119 134.248895 \nL 110.928929 44.977341 \nL 111.776739 76.860038 \nL 112.624548 38.600801 \nL 113.472358 38.600801 \nL 114.320167 223.520449 \nL 115.167977 83.236578 \nL 116.015786 44.977341 \nL 116.863596 102.366197 \nL 117.711406 38.600801 \nL 118.559215 134.248895 \nL 119.407025 44.977341 \nL 120.254834 38.600801 \nL 121.102644 38.600801 \nL 121.950453 44.977341 \nL 122.798263 38.600801 \nL 123.646073 38.600801 \nL 124.493882 44.977341 \nL 125.341692 38.600801 \nL 126.189501 38.600801 \nL 127.037311 134.248895 \nL 127.88512 44.977341 \nL 128.73293 44.977341 \nL 129.58074 127.872355 \nL 130.428549 38.600801 \nL 131.276359 44.977341 \nL 132.971978 44.977341 \nL 133.819787 51.35388 \nL 134.667597 44.977341 \nL 135.515407 44.977341 \nL 136.363216 76.860038 \nL 137.211026 44.977341 \nL 138.058835 44.977341 \nL 138.906645 38.600801 \nL 139.754454 38.600801 \nL 140.602264 44.977341 \nL 141.450074 44.977341 \nL 142.297883 38.600801 \nL 143.145693 38.600801 \nL 143.993502 44.977341 \nL 144.841312 166.131593 \nL 145.689121 134.248895 \nL 146.536931 229.896989 \nL 147.384741 44.977341 \nL 148.23255 38.600801 \nL 149.08036 38.600801 \nL 149.928169 44.977341 \nL 150.775979 32.224261 \nL 151.623788 44.977341 \nL 152.471598 38.600801 \nL 153.319408 38.600801 \nL 155.015027 51.35388 \nL 155.862836 32.224261 \nL 157.558455 44.977341 \nL 158.406265 38.600801 \nL 159.254075 44.977341 \nL 160.101884 134.248895 \nL 160.949694 127.872355 \nL 161.797503 44.977341 \nL 162.645313 44.977341 \nL 163.493122 38.600801 \nL 164.340932 134.248895 \nL 165.188742 44.977341 \nL 166.036551 32.224261 \nL 166.884361 229.896989 \nL 167.73217 44.977341 \nL 168.57998 166.131593 \nL 169.427789 102.366197 \nL 170.275599 51.35388 \nL 171.123409 38.600801 \nL 171.971218 38.600801 \nL 172.819028 44.977341 \nL 173.666837 127.872355 \nL 174.514647 38.600801 \nL 175.362456 44.977341 \nL 176.210266 38.600801 \nL 177.058076 38.600801 \nL 177.905885 44.977341 \nL 180.449314 44.977341 \nL 181.297123 38.600801 \nL 182.144933 44.977341 \nL 182.992743 44.977341 \nL 183.840552 134.248895 \nL 184.688362 44.977341 \nL 185.536171 38.600801 \nL 186.383981 38.600801 \nL 187.23179 44.977341 \nL 188.0796 38.600801 \nL 188.92741 166.131593 \nL 189.775219 38.600801 \nL 190.623029 38.600801 \nL 191.470838 44.977341 \nL 192.318648 38.600801 \nL 193.166457 44.977341 \nL 194.014267 83.236578 \nL 194.862077 134.248895 \nL 195.709886 76.860038 \nL 196.557696 44.977341 \nL 197.405505 51.35388 \nL 199.101124 38.600801 \nL 199.948934 166.131593 \nL 200.796744 51.35388 \nL 201.644553 38.600801 \nL 202.492363 38.600801 \nL 203.340172 127.872355 \nL 204.187982 134.248895 \nL 205.035791 38.600801 \nL 205.883601 44.977341 \nL 206.731411 38.600801 \nL 207.57922 44.977341 \nL 208.42703 134.248895 \nL 209.274839 44.977341 \nL 210.122649 166.131593 \nL 210.970459 38.600801 \nL 211.818268 44.977341 \nL 212.666078 134.248895 \nL 213.513887 76.860038 \nL 214.361697 44.977341 \nL 215.209506 38.600801 \nL 216.057316 76.860038 \nL 216.905126 38.600801 \nL 217.752935 38.600801 \nL 218.600745 229.896989 \nL 219.448554 44.977341 \nL 220.296364 44.977341 \nL 221.144173 38.600801 \nL 222.839793 51.35388 \nL 223.687602 38.600801 \nL 224.535412 32.224261 \nL 225.383221 229.896989 \nL 226.231031 44.977341 \nL 227.07884 102.366197 \nL 227.92665 38.600801 \nL 228.77446 134.248895 \nL 229.622269 38.600801 \nL 230.470079 102.366197 \nL 231.317888 38.600801 \nL 232.165698 44.977341 \nL 233.861317 44.977341 \nL 234.709127 32.224261 \nL 235.556936 38.600801 \nL 236.404746 102.366197 \nL 237.252555 102.366197 \nL 238.100365 38.600801 \nL 239.795984 38.600801 \nL 240.643794 108.742736 \nL 241.491603 38.600801 \nL 242.339413 44.977341 \nL 243.187222 44.977341 \nL 244.035032 38.600801 \nL 244.882841 134.248895 \nL 245.730651 44.977341 \nL 246.578461 44.977341 \nL 247.42627 134.248895 \nL 248.27408 166.131593 \nL 249.121889 38.600801 \nL 249.969699 44.977341 \nL 250.817508 38.600801 \nL 251.665318 51.35388 \nL 252.513128 134.248895 \nL 253.360937 38.600801 \nL 254.208747 102.366197 \nL 255.056556 44.977341 \nL 255.904366 32.224261 \nL 256.752175 127.872355 \nL 257.599985 38.600801 \nL 260.143414 38.600801 \nL 260.991223 44.977341 \nL 261.839033 38.600801 \nL 262.686842 38.600801 \nL 263.534652 44.977341 \nL 264.382462 229.896989 \nL 265.230271 44.977341 \nL 266.078081 134.248895 \nL 266.92589 38.600801 \nL 267.7737 51.35388 \nL 269.469319 38.600801 \nL 270.317129 44.977341 \nL 271.164938 38.600801 \nL 272.012748 134.248895 \nL 272.860557 134.248895 \nL 273.708367 44.977341 \nL 274.556176 44.977341 \nL 275.403986 134.248895 \nL 276.251796 134.248895 \nL 277.099605 44.977341 \nL 277.947415 38.600801 \nL 278.795224 44.977341 \nL 279.643034 134.248895 \nL 280.490843 44.977341 \nL 281.338653 38.600801 \nL 284.729891 38.600801 \nL 285.577701 44.977341 \nL 286.42551 140.625434 \nL 287.27332 134.248895 \nL 288.12113 38.600801 \nL 288.968939 44.977341 \nL 289.816749 38.600801 \nL 290.664558 229.896989 \nL 291.512368 44.977341 \nL 292.360177 38.600801 \nL 293.207987 38.600801 \nL 294.055797 102.366197 \nL 294.903606 44.977341 \nL 295.751416 134.248895 \nL 296.599225 38.600801 \nL 297.447035 44.977341 \nL 298.294844 38.600801 \nL 299.142654 134.248895 \nL 299.990464 44.977341 \nL 300.838273 140.625434 \nL 301.686083 44.977341 \nL 302.533892 44.977341 \nL 303.381702 102.366197 \nL 304.229511 44.977341 \nL 305.077321 38.600801 \nL 305.925131 83.236578 \nL 306.77294 134.248895 \nL 307.62075 44.977341 \nL 309.316369 159.755053 \nL 310.164178 44.977341 \nL 311.011988 44.977341 \nL 311.859798 38.600801 \nL 312.707607 51.35388 \nL 313.555417 38.600801 \nL 315.251036 38.600801 \nL 316.098845 44.977341 \nL 316.946655 32.224261 \nL 317.794465 38.600801 \nL 318.642274 229.896989 \nL 319.490084 38.600801 \nL 321.185703 51.35388 \nL 322.033512 44.977341 \nL 322.881322 44.977341 \nL 323.729132 38.600801 \nL 324.576941 44.977341 \nL 325.424751 38.600801 \nL 326.27256 102.366197 \nL 327.12037 38.600801 \nL 327.968179 38.600801 \nL 328.815989 44.977341 \nL 329.663799 38.600801 \nL 330.511608 134.248895 \nL 331.359418 134.248895 \nL 332.207227 38.600801 \nL 333.055037 44.977341 \nL 333.902846 38.600801 \nL 334.750656 134.248895 \nL 336.446275 38.600801 \nL 337.294085 44.977341 \nL 338.141894 134.248895 \nL 338.989704 38.600801 \nL 339.837513 134.248895 \nL 340.685323 38.600801 \nL 341.533133 32.224261 \nL 342.380942 95.989657 \nL 343.228752 38.600801 \nL 344.924371 38.600801 \nL 345.77218 44.977341 \nL 346.61999 44.977341 \nL 347.4678 38.600801 \nL 350.011228 38.600801 \nL 350.859038 102.366197 \nL 351.706847 44.977341 \nL 352.554657 102.366197 \nL 353.402467 134.248895 \nL 354.250276 44.977341 \nL 355.098086 102.366197 \nL 355.945895 38.600801 \nL 356.793705 51.35388 \nL 357.641514 44.977341 \nL 358.489324 229.896989 \nL 359.337134 38.600801 \nL 360.184943 127.872355 \nL 360.184943 127.872355 \n\" style=\"fill:none;stroke:#1f77b4;stroke-linecap:square;stroke-width:1.5;\"/>\n   </g>\n   <g id=\"patch_3\">\n    <path d=\"M 40.603125 239.780625 \nL 40.603125 22.340625 \n\" style=\"fill:none;stroke:#000000;stroke-linecap:square;stroke-linejoin:miter;stroke-width:0.8;\"/>\n   </g>\n   <g id=\"patch_4\">\n    <path d=\"M 375.403125 239.780625 \nL 375.403125 22.340625 \n\" style=\"fill:none;stroke:#000000;stroke-linecap:square;stroke-linejoin:miter;stroke-width:0.8;\"/>\n   </g>\n   <g id=\"patch_5\">\n    <path d=\"M 40.603125 239.780625 \nL 375.403125 239.780625 \n\" style=\"fill:none;stroke:#000000;stroke-linecap:square;stroke-linejoin:miter;stroke-width:0.8;\"/>\n   </g>\n   <g id=\"patch_6\">\n    <path d=\"M 40.603125 22.340625 \nL 375.403125 22.340625 \n\" style=\"fill:none;stroke:#000000;stroke-linecap:square;stroke-linejoin:miter;stroke-width:0.8;\"/>\n   </g>\n   <g id=\"text_18\">\n    <!-- Iteração de Valor -->\n    <g transform=\"translate(156.962812 16.340625)scale(0.12 -0.12)\">\n     <defs>\n      <path d=\"M 628 4666 \nL 1259 4666 \nL 1259 0 \nL 628 0 \nL 628 4666 \nz\n\" id=\"DejaVuSans-49\" transform=\"scale(0.015625)\"/>\n      <path d=\"M 1172 4494 \nL 1172 3500 \nL 2356 3500 \nL 2356 3053 \nL 1172 3053 \nL 1172 1153 \nQ 1172 725 1289 603 \nQ 1406 481 1766 481 \nL 2356 481 \nL 2356 0 \nL 1766 0 \nQ 1100 0 847 248 \nQ 594 497 594 1153 \nL 594 3053 \nL 172 3053 \nL 172 3500 \nL 594 3500 \nL 594 4494 \nL 1172 4494 \nz\n\" id=\"DejaVuSans-74\" transform=\"scale(0.015625)\"/>\n      <path d=\"M 2194 1759 \nQ 1497 1759 1228 1600 \nQ 959 1441 959 1056 \nQ 959 750 1161 570 \nQ 1363 391 1709 391 \nQ 2188 391 2477 730 \nQ 2766 1069 2766 1631 \nL 2766 1759 \nL 2194 1759 \nz\nM 3341 1997 \nL 3341 0 \nL 2766 0 \nL 2766 531 \nQ 2569 213 2275 61 \nQ 1981 -91 1556 -91 \nQ 1019 -91 701 211 \nQ 384 513 384 1019 \nQ 384 1609 779 1909 \nQ 1175 2209 1959 2209 \nL 2766 2209 \nL 2766 2266 \nQ 2766 2663 2505 2880 \nQ 2244 3097 1772 3097 \nQ 1472 3097 1187 3025 \nQ 903 2953 641 2809 \nL 641 3341 \nQ 956 3463 1253 3523 \nQ 1550 3584 1831 3584 \nQ 2591 3584 2966 3190 \nQ 3341 2797 3341 1997 \nz\n\" id=\"DejaVuSans-61\" transform=\"scale(0.015625)\"/>\n      <path d=\"M 3122 3366 \nL 3122 2828 \nQ 2878 2963 2633 3030 \nQ 2388 3097 2138 3097 \nQ 1578 3097 1268 2742 \nQ 959 2388 959 1747 \nQ 959 1106 1268 751 \nQ 1578 397 2138 397 \nQ 2388 397 2633 464 \nQ 2878 531 3122 666 \nL 3122 134 \nQ 2881 22 2623 -34 \nQ 2366 -91 2075 -91 \nQ 1284 -91 818 406 \nQ 353 903 353 1747 \nQ 353 2603 823 3093 \nQ 1294 3584 2113 3584 \nQ 2378 3584 2631 3529 \nQ 2884 3475 3122 3366 \nz\nM 2311 0 \nQ 2482 -194 2566 -358 \nQ 2651 -522 2651 -672 \nQ 2651 -950 2463 -1092 \nQ 2276 -1234 1907 -1234 \nQ 1764 -1234 1628 -1215 \nQ 1492 -1197 1357 -1159 \nL 1357 -750 \nQ 1464 -803 1579 -826 \nQ 1695 -850 1842 -850 \nQ 2026 -850 2120 -775 \nQ 2214 -700 2214 -556 \nQ 2214 -463 2146 -327 \nQ 2079 -191 1939 0 \nL 2311 0 \nz\n\" id=\"DejaVuSans-e7\" transform=\"scale(0.015625)\"/>\n      <path d=\"M 2194 1759 \nQ 1497 1759 1228 1600 \nQ 959 1441 959 1056 \nQ 959 750 1161 570 \nQ 1363 391 1709 391 \nQ 2188 391 2477 730 \nQ 2766 1069 2766 1631 \nL 2766 1759 \nL 2194 1759 \nz\nM 3341 1997 \nL 3341 0 \nL 2766 0 \nL 2766 531 \nQ 2569 213 2275 61 \nQ 1981 -91 1556 -91 \nQ 1019 -91 701 211 \nQ 384 513 384 1019 \nQ 384 1609 779 1909 \nQ 1175 2209 1959 2209 \nL 2766 2209 \nL 2766 2266 \nQ 2766 2663 2505 2880 \nQ 2244 3097 1772 3097 \nQ 1472 3097 1187 3025 \nQ 903 2953 641 2809 \nL 641 3341 \nQ 956 3463 1253 3523 \nQ 1550 3584 1831 3584 \nQ 2591 3584 2966 3190 \nQ 3341 2797 3341 1997 \nz\nM 1844 4281 \nL 1665 4453 \nQ 1597 4516 1545 4545 \nQ 1494 4575 1453 4575 \nQ 1334 4575 1278 4461 \nQ 1222 4347 1215 4091 \nL 825 4091 \nQ 831 4513 990 4742 \nQ 1150 4972 1434 4972 \nQ 1553 4972 1653 4928 \nQ 1753 4884 1869 4781 \nL 2047 4609 \nQ 2115 4547 2167 4517 \nQ 2219 4488 2259 4488 \nQ 2378 4488 2434 4602 \nQ 2490 4716 2497 4972 \nL 2887 4972 \nQ 2881 4550 2721 4320 \nQ 2562 4091 2278 4091 \nQ 2159 4091 2059 4134 \nQ 1959 4178 1844 4281 \nz\n\" id=\"DejaVuSans-e3\" transform=\"scale(0.015625)\"/>\n      <path id=\"DejaVuSans-20\" transform=\"scale(0.015625)\"/>\n      <path d=\"M 2906 2969 \nL 2906 4863 \nL 3481 4863 \nL 3481 0 \nL 2906 0 \nL 2906 525 \nQ 2725 213 2448 61 \nQ 2172 -91 1784 -91 \nQ 1150 -91 751 415 \nQ 353 922 353 1747 \nQ 353 2572 751 3078 \nQ 1150 3584 1784 3584 \nQ 2172 3584 2448 3432 \nQ 2725 3281 2906 2969 \nz\nM 947 1747 \nQ 947 1113 1208 752 \nQ 1469 391 1925 391 \nQ 2381 391 2643 752 \nQ 2906 1113 2906 1747 \nQ 2906 2381 2643 2742 \nQ 2381 3103 1925 3103 \nQ 1469 3103 1208 2742 \nQ 947 2381 947 1747 \nz\n\" id=\"DejaVuSans-64\" transform=\"scale(0.015625)\"/>\n      <path d=\"M 1831 0 \nL 50 4666 \nL 709 4666 \nL 2188 738 \nL 3669 4666 \nL 4325 4666 \nL 2547 0 \nL 1831 0 \nz\n\" id=\"DejaVuSans-56\" transform=\"scale(0.015625)\"/>\n      <path d=\"M 603 4863 \nL 1178 4863 \nL 1178 0 \nL 603 0 \nL 603 4863 \nz\n\" id=\"DejaVuSans-6c\" transform=\"scale(0.015625)\"/>\n     </defs>\n     <use xlink:href=\"#DejaVuSans-49\"/>\n     <use x=\"29.492188\" xlink:href=\"#DejaVuSans-74\"/>\n     <use x=\"68.701172\" xlink:href=\"#DejaVuSans-65\"/>\n     <use x=\"130.224609\" xlink:href=\"#DejaVuSans-72\"/>\n     <use x=\"171.337891\" xlink:href=\"#DejaVuSans-61\"/>\n     <use x=\"232.617188\" xlink:href=\"#DejaVuSans-e7\"/>\n     <use x=\"287.597656\" xlink:href=\"#DejaVuSans-e3\"/>\n     <use x=\"348.876953\" xlink:href=\"#DejaVuSans-6f\"/>\n     <use x=\"410.058594\" xlink:href=\"#DejaVuSans-20\"/>\n     <use x=\"441.845703\" xlink:href=\"#DejaVuSans-64\"/>\n     <use x=\"505.322266\" xlink:href=\"#DejaVuSans-65\"/>\n     <use x=\"566.845703\" xlink:href=\"#DejaVuSans-20\"/>\n     <use x=\"598.632812\" xlink:href=\"#DejaVuSans-56\"/>\n     <use x=\"659.291016\" xlink:href=\"#DejaVuSans-61\"/>\n     <use x=\"720.570312\" xlink:href=\"#DejaVuSans-6c\"/>\n     <use x=\"748.353516\" xlink:href=\"#DejaVuSans-6f\"/>\n     <use x=\"809.535156\" xlink:href=\"#DejaVuSans-72\"/>\n    </g>\n   </g>\n  </g>\n </g>\n <defs>\n  <clipPath id=\"p0b306b19cb\">\n   <rect height=\"217.44\" width=\"334.8\" x=\"40.603125\" y=\"22.340625\"/>\n  </clipPath>\n </defs>\n</svg>\n",
      "image/png": "[encoded data removed]"
     },
     "metadata": {
      "needs_background": "light"
     }
    }
   ],
   "source": [
    "np.arange(n_games)\n",
    "epoca = np.arange(n_games)\n",
    "plt.plot(epoca, scores)\n",
    "plt.title(\"Iteração de Valor\")\n",
    "plt.xlabel(\"Jogos\")\n",
    "plt.ylabel(\"Score\")"
   ]
  },
  {
   "cell_type": "code",
   "execution_count": 18,
   "metadata": {},
   "outputs": [
    {
     "output_type": "execute_result",
     "data": {
      "text/plain": [
       "300.0"
      ]
     },
     "metadata": {},
     "execution_count": 18
    }
   ],
   "source": [
    "np.mean(equacoes)"
   ]
  },
  {
   "source": [
    "Policy Iteration"
   ],
   "cell_type": "markdown",
   "metadata": {}
  },
  {
   "cell_type": "code",
   "execution_count": 17,
   "metadata": {},
   "outputs": [],
   "source": [
    "def policy_evaluation(policy, states):\n",
    "    V = [0 for _ in range(len(states))]\n",
    "    while True:\n",
    "        old_v = V\n",
    "        for s in reversed(range(len(states))):\n",
    "            a = policy[s]\n",
    "            if s+a >= 0 and s+a < len(states):\n",
    "                V[s] = rewards[states[int(s+a)]]\n",
    "            else: V[s] = 0\n",
    "            for s_linha in reversed(range(len(states))):\n",
    "                V[s] += transition[s,a,s_linha]*old_v[s_linha]\n",
    "        if all(old_v[s] == V[s] for s in range(len(states))): \n",
    "            break\n",
    "    return V"
   ]
  },
  {
   "cell_type": "code",
   "execution_count": 18,
   "metadata": {},
   "outputs": [],
   "source": [
    "def policy_improvement(V, states, actions):\n",
    "    pi = [actions[0] for states in range(len(states))]\n",
    "    for s in reversed(range(len(states))):\n",
    "        Q = {}\n",
    "        for a in actions:\n",
    "            if s+a >= 0 and s+a < len(states):\n",
    "                Q[a] = rewards[states[int(s+a)]]\n",
    "            else: Q[a] = 0\n",
    "            for s_linha in reversed(range(len(states))):\n",
    "                Q[a] += transition[s,a,s_linha]*V[s_linha]\n",
    "        pi[s] = max(Q, key=Q.get)\n",
    "\n",
    "    return pi"
   ]
  },
  {
   "cell_type": "code",
   "execution_count": 19,
   "metadata": {},
   "outputs": [],
   "source": [
    "def policy_iteration(states, actions, rewards, transition):\n",
    "    i = 0\n",
    "    pi = [actions[1] for _ in range(len(states))]\n",
    "    pi_stable = False\n",
    "    for i in range(100):\n",
    "        old_pi = pi\n",
    "        V = policy_evaluation(pi, states)\n",
    "        pi = policy_improvement(V, states, actions)\n",
    "        if all(old_pi[s] == pi[s] for s in range(len(states))):\n",
    "            print(pi_stable)\n",
    "            pi_stable = True \n",
    "    return pi"
   ]
  },
  {
   "cell_type": "code",
   "execution_count": 20,
   "metadata": {},
   "outputs": [],
   "source": [
    "env = create_env(10,9)\n",
    "pos_a = get_player(env)\n",
    "score = 0\n",
    "mid_col = env.shape[1] // 2\n",
    "n_games = 1000\n",
    "mean_score = 0\n",
    "scores = list()\n",
    "\n",
    "mid_col = env.shape[1] // 2\n",
    "time_limit = 272\n",
    "actions = np.array([1, 0, -1])\n",
    "rewards = {'O':-1, '-':0, 'A':0, 'I':0, 'F':1}\n",
    "states = env[:,mid_col]\n",
    "transition = transition_matrix(np.arange(len(env)), actions)"
   ]
  },
  {
   "cell_type": "code",
   "execution_count": 21,
   "metadata": {
    "tags": []
   },
   "outputs": [
    {
     "output_type": "stream",
     "name": "stdout",
     "text": [
      "Game 0 - Score: 30\n",
      "Game 1 - Score: 30\n"
     ]
    },
    {
     "output_type": "error",
     "ename": "KeyboardInterrupt",
     "evalue": "",
     "traceback": [
      "\u001b[0;31m---------------------------------------------------------------------------\u001b[0m",
      "\u001b[0;31mKeyboardInterrupt\u001b[0m                         Traceback (most recent call last)",
      "\u001b[0;32m<ipython-input-21-14123b36aff1>\u001b[0m in \u001b[0;36m<module>\u001b[0;34m\u001b[0m\n\u001b[1;32m      6\u001b[0m \u001b[0;34m\u001b[0m\u001b[0m\n\u001b[1;32m      7\u001b[0m     \u001b[0;32mfor\u001b[0m \u001b[0mi\u001b[0m \u001b[0;32min\u001b[0m \u001b[0mrange\u001b[0m\u001b[0;34m(\u001b[0m\u001b[0mtime_limit\u001b[0m\u001b[0;34m)\u001b[0m\u001b[0;34m:\u001b[0m\u001b[0;34m\u001b[0m\u001b[0;34m\u001b[0m\u001b[0m\n\u001b[0;32m----> 8\u001b[0;31m         \u001b[0mpi\u001b[0m \u001b[0;34m=\u001b[0m \u001b[0mpolicy_iteration\u001b[0m\u001b[0;34m(\u001b[0m\u001b[0mstates\u001b[0m\u001b[0;34m,\u001b[0m \u001b[0mactions\u001b[0m\u001b[0;34m,\u001b[0m \u001b[0mrewards\u001b[0m\u001b[0;34m,\u001b[0m \u001b[0mtransition\u001b[0m\u001b[0;34m)\u001b[0m\u001b[0;34m\u001b[0m\u001b[0;34m\u001b[0m\u001b[0m\n\u001b[0m\u001b[1;32m      9\u001b[0m         \u001b[0menv\u001b[0m \u001b[0;34m=\u001b[0m \u001b[0mmove_player\u001b[0m\u001b[0;34m(\u001b[0m\u001b[0menv\u001b[0m\u001b[0;34m,\u001b[0m \u001b[0mpos_a\u001b[0m\u001b[0;34m,\u001b[0m \u001b[0mpi\u001b[0m\u001b[0;34m[\u001b[0m\u001b[0mpos_a\u001b[0m\u001b[0;34m]\u001b[0m\u001b[0;34m)\u001b[0m\u001b[0;34m\u001b[0m\u001b[0;34m\u001b[0m\u001b[0m\n\u001b[1;32m     10\u001b[0m         \u001b[0menv\u001b[0m \u001b[0;34m=\u001b[0m \u001b[0mmove_vehicles\u001b[0m\u001b[0;34m(\u001b[0m\u001b[0menv\u001b[0m\u001b[0;34m)\u001b[0m\u001b[0;34m\u001b[0m\u001b[0;34m\u001b[0m\u001b[0m\n",
      "\u001b[0;32m<ipython-input-19-8fd79cfca5cb>\u001b[0m in \u001b[0;36mpolicy_iteration\u001b[0;34m(states, actions, rewards, transition)\u001b[0m\n\u001b[1;32m      6\u001b[0m         \u001b[0mold_pi\u001b[0m \u001b[0;34m=\u001b[0m \u001b[0mpi\u001b[0m\u001b[0;34m\u001b[0m\u001b[0;34m\u001b[0m\u001b[0m\n\u001b[1;32m      7\u001b[0m         \u001b[0mV\u001b[0m \u001b[0;34m=\u001b[0m \u001b[0mpolicy_evaluation\u001b[0m\u001b[0;34m(\u001b[0m\u001b[0mpi\u001b[0m\u001b[0;34m,\u001b[0m \u001b[0mstates\u001b[0m\u001b[0;34m)\u001b[0m\u001b[0;34m\u001b[0m\u001b[0;34m\u001b[0m\u001b[0m\n\u001b[0;32m----> 8\u001b[0;31m         \u001b[0mpi\u001b[0m \u001b[0;34m=\u001b[0m \u001b[0mpolicy_improvement\u001b[0m\u001b[0;34m(\u001b[0m\u001b[0mV\u001b[0m\u001b[0;34m,\u001b[0m \u001b[0mstates\u001b[0m\u001b[0;34m,\u001b[0m \u001b[0mactions\u001b[0m\u001b[0;34m)\u001b[0m\u001b[0;34m\u001b[0m\u001b[0;34m\u001b[0m\u001b[0m\n\u001b[0m\u001b[1;32m      9\u001b[0m         \u001b[0;32mif\u001b[0m \u001b[0mall\u001b[0m\u001b[0;34m(\u001b[0m\u001b[0mold_pi\u001b[0m\u001b[0;34m[\u001b[0m\u001b[0ms\u001b[0m\u001b[0;34m]\u001b[0m \u001b[0;34m==\u001b[0m \u001b[0mpi\u001b[0m\u001b[0;34m[\u001b[0m\u001b[0ms\u001b[0m\u001b[0;34m]\u001b[0m \u001b[0;32mfor\u001b[0m \u001b[0ms\u001b[0m \u001b[0;32min\u001b[0m \u001b[0mrange\u001b[0m\u001b[0;34m(\u001b[0m\u001b[0mlen\u001b[0m\u001b[0;34m(\u001b[0m\u001b[0mstates\u001b[0m\u001b[0;34m)\u001b[0m\u001b[0;34m)\u001b[0m\u001b[0;34m)\u001b[0m\u001b[0;34m:\u001b[0m\u001b[0;34m\u001b[0m\u001b[0;34m\u001b[0m\u001b[0m\n\u001b[1;32m     10\u001b[0m             \u001b[0mprint\u001b[0m\u001b[0;34m(\u001b[0m\u001b[0mpi_stable\u001b[0m\u001b[0;34m)\u001b[0m\u001b[0;34m\u001b[0m\u001b[0;34m\u001b[0m\u001b[0m\n",
      "\u001b[0;32m<ipython-input-18-6ad24db90ab1>\u001b[0m in \u001b[0;36mpolicy_improvement\u001b[0;34m(V, states, actions)\u001b[0m\n\u001b[1;32m      4\u001b[0m         \u001b[0mQ\u001b[0m \u001b[0;34m=\u001b[0m \u001b[0;34m{\u001b[0m\u001b[0;34m}\u001b[0m\u001b[0;34m\u001b[0m\u001b[0;34m\u001b[0m\u001b[0m\n\u001b[1;32m      5\u001b[0m         \u001b[0;32mfor\u001b[0m \u001b[0ma\u001b[0m \u001b[0;32min\u001b[0m \u001b[0mactions\u001b[0m\u001b[0;34m:\u001b[0m\u001b[0;34m\u001b[0m\u001b[0;34m\u001b[0m\u001b[0m\n\u001b[0;32m----> 6\u001b[0;31m             \u001b[0;32mif\u001b[0m \u001b[0ms\u001b[0m\u001b[0;34m+\u001b[0m\u001b[0ma\u001b[0m \u001b[0;34m>=\u001b[0m \u001b[0;36m0\u001b[0m \u001b[0;32mand\u001b[0m \u001b[0ms\u001b[0m\u001b[0;34m+\u001b[0m\u001b[0ma\u001b[0m \u001b[0;34m<\u001b[0m \u001b[0mlen\u001b[0m\u001b[0;34m(\u001b[0m\u001b[0mstates\u001b[0m\u001b[0;34m)\u001b[0m\u001b[0;34m:\u001b[0m\u001b[0;34m\u001b[0m\u001b[0;34m\u001b[0m\u001b[0m\n\u001b[0m\u001b[1;32m      7\u001b[0m                 \u001b[0mQ\u001b[0m\u001b[0;34m[\u001b[0m\u001b[0ma\u001b[0m\u001b[0;34m]\u001b[0m \u001b[0;34m=\u001b[0m \u001b[0mrewards\u001b[0m\u001b[0;34m[\u001b[0m\u001b[0mstates\u001b[0m\u001b[0;34m[\u001b[0m\u001b[0mint\u001b[0m\u001b[0;34m(\u001b[0m\u001b[0ms\u001b[0m\u001b[0;34m+\u001b[0m\u001b[0ma\u001b[0m\u001b[0;34m)\u001b[0m\u001b[0;34m]\u001b[0m\u001b[0;34m]\u001b[0m\u001b[0;34m\u001b[0m\u001b[0;34m\u001b[0m\u001b[0m\n\u001b[1;32m      8\u001b[0m             \u001b[0;32melse\u001b[0m\u001b[0;34m:\u001b[0m \u001b[0mQ\u001b[0m\u001b[0;34m[\u001b[0m\u001b[0ma\u001b[0m\u001b[0;34m]\u001b[0m \u001b[0;34m=\u001b[0m \u001b[0;36m0\u001b[0m\u001b[0;34m\u001b[0m\u001b[0;34m\u001b[0m\u001b[0m\n",
      "\u001b[0;31mKeyboardInterrupt\u001b[0m: "
     ]
    }
   ],
   "source": [
    "for game in range(n_games):\n",
    "    env = create_env(10,9)\n",
    "    pos_a = get_player(env)\n",
    "    states = env[:,mid_col]\n",
    "    score = 0\n",
    "\n",
    "    for i in range(time_limit):\n",
    "        pi = policy_iteration(states, actions, rewards, transition)\n",
    "        env = move_player(env, pos_a, pi[pos_a])\n",
    "        env = move_vehicles(env)\n",
    "        pos_a = get_player(env)\n",
    "\n",
    "        if is_terminal_state(env, pos_a):\n",
    "            score += 1\n",
    "            env[0,mid_col] = 'A'\n",
    "            env[env.shape[0]-1,mid_col] = 'F'\n",
    "            pos_a = get_player(env)\n",
    "    mean_score += score\n",
    "    scores.append(score)\n",
    "    print(\"Game\", game, \"- Score:\", score)\n",
    "mean_score /= n_games\n",
    "print(\"MEAN SCORE:\", mean_score)"
   ]
  },
  {
   "cell_type": "code",
   "execution_count": null,
   "metadata": {},
   "outputs": [],
   "source": []
  }
 ]
}